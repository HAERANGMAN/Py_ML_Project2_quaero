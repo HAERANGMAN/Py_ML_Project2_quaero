{
 "cells": [
  {
   "cell_type": "code",
   "execution_count": 65,
   "metadata": {},
   "outputs": [],
   "source": [
    "import pandas as pd\n",
    "import numpy as np\n",
    "import seaborn as sns\n",
    "import numpy as np\n",
    "import matplotlib.pyplot as plt\n",
    "%matplotlib inline"
   ]
  },
  {
   "cell_type": "markdown",
   "metadata": {},
   "source": [
    "## 데이터 불러오기\n",
    "### 연결데이터와 별도데이터 병합하기"
   ]
  },
  {
   "cell_type": "code",
   "execution_count": 66,
   "metadata": {},
   "outputs": [
    {
     "name": "stdout",
     "output_type": "stream",
     "text": [
      "<연결>\n",
      "행렬 수 :  (20947, 75)\n",
      "회사 수 :  2456\n",
      "\n",
      "<별도>\n",
      "행렬 수 :  (20947, 75)\n",
      "회사 수 :  2456\n",
      "\n",
      "<케이갭>\n",
      "행렬 수 :  (20831, 74)\n",
      "회사 수 :  2388\n"
     ]
    }
   ],
   "source": [
    "# 데이터 불러오기\n",
    "consolidated = pd.read_csv('데이터/data/연결기업72.csv', encoding='CP949')\n",
    "separate = pd.read_csv('데이터/data/별도기업72.csv', encoding='CP949')\n",
    "kgaap = pd.read_csv('데이터/data/케이갭71.csv', encoding='CP949')\n",
    "\n",
    "\n",
    "# 연결, 개별, 케이갭 데이터 비교하고 확인\n",
    "print('<연결>')\n",
    "print('행렬 수 : ', consolidated.shape)\n",
    "print('회사 수 : ', consolidated['회사명'].nunique())\n",
    "\n",
    "print('\\n<별도>')\n",
    "print('행렬 수 : ', separate.shape)\n",
    "print('회사 수 : ', separate['회사명'].nunique())\n",
    "\n",
    "print('\\n<케이갭>')\n",
    "print('행렬 수 : ', kgaap.shape)\n",
    "print('회사 수 : ', kgaap['회사명'].nunique())"
   ]
  },
  {
   "cell_type": "code",
   "execution_count": 67,
   "metadata": {},
   "outputs": [
    {
     "name": "stderr",
     "output_type": "stream",
     "text": [
      "<ipython-input-67-81ead89be098>:2: FutureWarning: The default value of regex will change from True to False in a future version. In addition, single character regular expressions will*not* be treated as literal strings when regex=True.\n",
      "  consolidated.columns = consolidated.columns.str.replace('(', '')\n",
      "<ipython-input-67-81ead89be098>:3: FutureWarning: The default value of regex will change from True to False in a future version. In addition, single character regular expressions will*not* be treated as literal strings when regex=True.\n",
      "  consolidated.columns = consolidated.columns.str.replace(')', '')\n",
      "<ipython-input-67-81ead89be098>:10: FutureWarning: The default value of regex will change from True to False in a future version. In addition, single character regular expressions will*not* be treated as literal strings when regex=True.\n",
      "  separate.columns = separate.columns.str.replace('(', '')\n",
      "<ipython-input-67-81ead89be098>:11: FutureWarning: The default value of regex will change from True to False in a future version. In addition, single character regular expressions will*not* be treated as literal strings when regex=True.\n",
      "  separate.columns = separate.columns.str.replace(')', '')\n"
     ]
    }
   ],
   "source": [
    "# 컬럼명에 불필요 문자 제거\n",
    "consolidated.columns = consolidated.columns.str.replace('(', '')\n",
    "consolidated.columns = consolidated.columns.str.replace(')', '')\n",
    "consolidated.columns = consolidated.columns.str.replace('대분류', '')\n",
    "consolidated.columns = consolidated.columns.str.replace('관계기업투자손익 제외', '')\n",
    "consolidated.columns = consolidated.columns.str.replace('이자비용', '')\n",
    "consolidated.columns = consolidated.columns.str.replace('IFRS', '')\n",
    "consolidated.columns = consolidated.columns.str.replace('연결', '')\n",
    "\n",
    "separate.columns = separate.columns.str.replace('(', '')\n",
    "separate.columns = separate.columns.str.replace(')', '')\n",
    "separate.columns = separate.columns.str.replace('대분류', '')\n",
    "separate.columns = separate.columns.str.replace('관계기업투자손익 제외', '')\n",
    "separate.columns = separate.columns.str.replace('이자비용', '')\n",
    "separate.columns = separate.columns.str.replace('IFRS', '')\n",
    "separate.columns = separate.columns.str.replace('IFRS', '')\n",
    "\n",
    "\n",
    "# 컬럼명 변경\n",
    "consolidated.rename(columns={'통계청 한국표준산업분류 10차': '업종'}, inplace=True)\n",
    "separate.rename(columns={'통계청 한국표준산업분류 10차': '업종'}, inplace=True)\n",
    "\n",
    "\n",
    "# 컬럼명 재정렬\n",
    "consolidated = consolidated[[\n",
    "       '회사명', '거래소코드', '회계년도', '상장일', '상장폐지일', '업종', \n",
    "       '총자본증가율', '정상영업이익증가율', '순이익증가율', '자기자본증가율', '매출액증가율', '종업원수증가율',                                   # 성장성\n",
    "       '유형자산증가율', '유동자산증가율', '재고자산증가율',                                                                                     # 성장성\n",
    "       '자기자본구성비율', '유동비율', '당좌비율', '현금비율', '재고자산 대 순운전자본비율', '매출채권 대 매입채무비율',                           # 안정성\n",
    "       '부채비율', '이자보상배율', 'CASH FLOW 대 부채비율', 'CASH FLOW 대 차입금비율', 'CASH FLOW 대 총자본비율', 'CASH FLOW 대 매출액비율',      # 안정성\n",
    "       '유동자산구성비율', '재고자산 대 유동자산비율', '타인자본구성비율', '자기자본배율', '매출채권비율',                                         # 안정성\n",
    "       '유동부채비율','단기차입금 대 총차입금비율', '차입금의존도', '차입금비율',                                                                 # 안정성\n",
    "       '종업원1인당 부가가치', '노동장비율', '기계장비율', '자본집약도', '총자본투자효율',                                                        # 생산성\n",
    "       '설비투자효율', '기계투자효율', '부가가치율', '노동소득분배율',                                                                            # 생산성\n",
    "       '매출액총이익률', '매출액정상영업이익률', '매출액순이익률', '총자본순이익률',                                                               # 수익성\n",
    "       '총자본정상영업이익률', '자기자본정상영업이익률', '자기자본순이익률', '금융비용부담률', '수지비율',                                          # 수익성\n",
    "       '사내유보 대 자기자본비율', '1주당매출액', '1주당순이익', '1주당 CASH FLOW', '1주당순자산', '유보율',                                       # 수익성\n",
    "       '금융손익비율', '매출원가 대 매출액비율', '이자부담률', '지급이자율', '차입금평균이자율',                                                   # 수익성\n",
    "       '총자본회전률', '자기자본회전률', '타인자본회전률', '유동자산회전률',                                                                      # 활동성\n",
    "       '당좌자산회전률', '재고자산회전률', '매출채권회전률', '순운전자본회전률', '운전자본회전률',                                                 # 활동성\n",
    "       '유형자산회전율'                                                                                                                        # 활동성\n",
    "       ]]\n",
    "\n",
    "separate = separate[[\n",
    "       '회사명', '거래소코드', '회계년도', '상장일', '상장폐지일', '업종', \n",
    "       '총자본증가율', '정상영업이익증가율', '순이익증가율', '자기자본증가율', '매출액증가율', '종업원수증가율',                                   # 성장성\n",
    "       '유형자산증가율', '유동자산증가율', '재고자산증가율',                                                                                     # 성장성\n",
    "       '자기자본구성비율', '유동비율', '당좌비율', '현금비율', '재고자산 대 순운전자본비율', '매출채권 대 매입채무비율',                           # 안정성\n",
    "       '부채비율', '이자보상배율', 'CASH FLOW 대 부채비율', 'CASH FLOW 대 차입금비율', 'CASH FLOW 대 총자본비율', 'CASH FLOW 대 매출액비율',      # 안정성\n",
    "       '유동자산구성비율', '재고자산 대 유동자산비율', '타인자본구성비율', '자기자본배율', '매출채권비율',                                         # 안정성\n",
    "       '유동부채비율','단기차입금 대 총차입금비율', '차입금의존도', '차입금비율',                                                                 # 안정성\n",
    "       '종업원1인당 부가가치', '노동장비율', '기계장비율', '자본집약도', '총자본투자효율',                                                        # 생산성\n",
    "       '설비투자효율', '기계투자효율', '부가가치율', '노동소득분배율',                                                                            # 생산성\n",
    "       '매출액총이익률', '매출액정상영업이익률', '매출액순이익률', '총자본순이익률',                                                               # 수익성\n",
    "       '총자본정상영업이익률', '자기자본정상영업이익률', '자기자본순이익률', '금융비용부담률', '수지비율',                                          # 수익성\n",
    "       '사내유보 대 자기자본비율', '1주당매출액', '1주당순이익', '1주당 CASH FLOW', '1주당순자산', '유보율',                                       # 수익성\n",
    "       '금융손익비율', '매출원가 대 매출액비율', '이자부담률', '지급이자율', '차입금평균이자율',                                                   # 수익성\n",
    "       '총자본회전률', '자기자본회전률', '타인자본회전률', '유동자산회전률',                                                                      # 활동성\n",
    "       '당좌자산회전률', '재고자산회전률', '매출채권회전률', '순운전자본회전률', '운전자본회전률',                                                 # 활동성\n",
    "       '유형자산회전율'                                                                                                                        # 활동성\n",
    "       ]]\n",
    "\n",
    "\n",
    "consolidated2 = consolidated.copy()\n",
    "\n",
    "# 연결기업 데이터프레임의 결측치를 개별기업 데이터로 대체\n",
    "for i in consolidated2.columns:\n",
    "    consolidated2[i] = consolidated2[i].fillna(separate[i])\n",
    "\n",
    "\n",
    "# 재무비율이 NaN 값인 것들의 인덱스 리스트 생성\n",
    "index_to_drop = consolidated2.index[consolidated2.iloc[:, 6:].isna().all(1)].tolist()\n",
    "\n",
    "\n",
    "# 재무비율이 NaN인 행 제거\n",
    "consolidated2.drop(consolidated2.index[index_to_drop], inplace=True)\n",
    "consolidated2.reset_index(drop=True, inplace=True)\n",
    "\n",
    "\n",
    "# '사업시설 관리, 사업 지원 및 임대 서비스업'을 '임대업'으로 이름 변경\n",
    "consolidated2['업종'] = consolidated2['업종'].str.replace('사업시설 관리, 사업 지원 및 임대 서비스업', '임대업')\n",
    "\n",
    "\n",
    "# 데이터 프레임 저장\n",
    "consolidated2.to_csv('데이터/1차 전처리/연결별도_72피처병합.csv', encoding='CP949', index=False)"
   ]
  },
  {
   "cell_type": "markdown",
   "metadata": {},
   "source": [
    "## 전처리 전 결측치 시각화"
   ]
  },
  {
   "cell_type": "code",
   "execution_count": 68,
   "metadata": {},
   "outputs": [
    {
     "data": {
      "text/plain": [
       "<AxesSubplot:>"
      ]
     },
     "execution_count": 68,
     "metadata": {},
     "output_type": "execute_result"
    },
    {
     "data": {
      "image/png": "[encoded data removed]",
      "text/plain": [
       "<Figure size 1440x1080 with 2 Axes>"
      ]
     },
     "metadata": {
      "needs_background": "light"
     },
     "output_type": "display_data"
    }
   ],
   "source": [
    "view = consolidated2.copy()\n",
    "\n",
    "# 시각화할 컬럼만 새로운 변수로 지정\n",
    "view = view[['거래소코드','총자본증가율', '정상영업이익증가율',\n",
    "       '순이익증가율', '자기자본증가율', '매출액증가율', '종업원수증가율', '유형자산증가율', '유동자산증가율',\n",
    "       '재고자산증가율', '자기자본구성비율', '유동비율', '당좌비율', '현금비율', '재고자산 대 순운전자본비율',\n",
    "       '매출채권 대 매입채무비율', '부채비율', '이자보상배율', 'CASH FLOW 대 부채비율',\n",
    "       'CASH FLOW 대 차입금비율', 'CASH FLOW 대 총자본비율', 'CASH FLOW 대 매출액비율',\n",
    "       '유동자산구성비율', '재고자산 대 유동자산비율', '타인자본구성비율', '자기자본배율', '매출채권비율', '유동부채비율',\n",
    "       '단기차입금 대 총차입금비율', '차입금의존도', '차입금비율', '종업원1인당 부가가치', '노동장비율', '기계장비율',\n",
    "       '자본집약도', '총자본투자효율', '설비투자효율', '기계투자효율', '부가가치율', '노동소득분배율', '매출액총이익률',\n",
    "       '매출액정상영업이익률', '매출액순이익률', '총자본순이익률', '총자본정상영업이익률', '자기자본정상영업이익률',\n",
    "       '자기자본순이익률', '금융비용부담률', '수지비율', '사내유보 대 자기자본비율', '1주당매출액', '1주당순이익',\n",
    "       '1주당 CASH FLOW', '1주당순자산', '유보율', '금융손익비율', '매출원가 대 매출액비율', '이자부담률',\n",
    "       '지급이자율', '차입금평균이자율', '총자본회전률', '자기자본회전률', '타인자본회전률', '유동자산회전률',\n",
    "       '당좌자산회전률', '재고자산회전률', '매출채권회전률', '순운전자본회전률', '운전자본회전률', '유형자산회전율']]\n",
    "\n",
    "# 자료 상 0 값을 모두 NaN 으로 변환\n",
    "view = view.replace(0, np.NaN)\n",
    "\n",
    "\n",
    "# 결측치 히트맵\n",
    "plt.rcParams['axes.unicode_minus'] = False\n",
    "plt.rcParams[\"font.family\"] = \"Malgun Gothic\"\n",
    "\n",
    "plt.figure(figsize=(20, 15))\n",
    "\n",
    "sns.heatmap(view.isna())"
   ]
  },
  {
   "cell_type": "markdown",
   "metadata": {},
   "source": [
    "## 결측치 및 이상치 처리"
   ]
  },
  {
   "cell_type": "code",
   "execution_count": 69,
   "metadata": {},
   "outputs": [],
   "source": [
    "df = consolidated2.copy()\n",
    "\n",
    "# 컬럼 재정렬\n",
    "df = df[['회사명', '거래소코드', '회계년도', '상장일', '상장폐지일', '업종', '총자본증가율',\n",
    "       '정상영업이익증가율', '순이익증가율', '자기자본증가율', '매출액증가율', '종업원수증가율', '유형자산증가율', '유동자산증가율',\n",
    "       '재고자산증가율', '자기자본구성비율', '유동비율', '당좌비율', '현금비율', '재고자산 대 순운전자본비율',\n",
    "       '매출채권 대 매입채무비율', '부채비율', '이자보상배율', 'CASH FLOW 대 부채비율',\n",
    "       'CASH FLOW 대 차입금비율', 'CASH FLOW 대 총자본비율', 'CASH FLOW 대 매출액비율',\n",
    "       '유동자산구성비율', '재고자산 대 유동자산비율', '타인자본구성비율', '자기자본배율', '매출채권비율', '유동부채비율',\n",
    "       '단기차입금 대 총차입금비율', '차입금의존도', '차입금비율', '종업원1인당 부가가치', '노동장비율', '기계장비율',\n",
    "       '자본집약도', '총자본투자효율', '설비투자효율', '기계투자효율', '부가가치율', '노동소득분배율', '매출액총이익률',\n",
    "       '매출액정상영업이익률', '매출액순이익률', '총자본순이익률', '총자본정상영업이익률', '자기자본정상영업이익률',\n",
    "       '자기자본순이익률', '금융비용부담률', '수지비율', '사내유보 대 자기자본비율', '1주당매출액', '1주당순이익',\n",
    "       '1주당 CASH FLOW', '1주당순자산', '유보율', '금융손익비율', '매출원가 대 매출액비율', '이자부담률',\n",
    "       '지급이자율', '차입금평균이자율', '총자본회전률', '자기자본회전률', '타인자본회전률', '유동자산회전률',\n",
    "       '당좌자산회전률', '재고자산회전률', '매출채권회전률', '순운전자본회전률', '운전자본회전률', '유형자산회전율']]"
   ]
  },
  {
   "cell_type": "markdown",
   "metadata": {},
   "source": [
    "### 회계년도가 12월이 아닌 행 전처리(제거)"
   ]
  },
  {
   "cell_type": "code",
   "execution_count": 70,
   "metadata": {},
   "outputs": [
    {
     "name": "stdout",
     "output_type": "stream",
     "text": [
      "제거 전 :  (18985, 75)\n",
      "제거 후 :  (18838, 75)\n"
     ]
    }
   ],
   "source": [
    "df2 = df.copy()\n",
    "\n",
    "# 회계년도가 12월이 아닌 행 리스트 생성\n",
    "not_dec_list = df2[~df2.loc[:,'회계년도'].str.endswith('12')].index.tolist()\n",
    "\n",
    "\n",
    "# 회계년도가 12월이 아닌 행 제거\n",
    "print('제거 전 : ', df2.shape)\n",
    "\n",
    "df2.drop(df2.index[not_dec_list], inplace=True)\n",
    "df2.reset_index(drop=True, inplace=True)\n",
    "print('제거 후 : ', df2.shape)"
   ]
  },
  {
   "cell_type": "markdown",
   "metadata": {},
   "source": [
    "### 이자보상배율 결측치 및 이상치 전처리(대체)"
   ]
  },
  {
   "cell_type": "code",
   "execution_count": 71,
   "metadata": {},
   "outputs": [
    {
     "name": "stdout",
     "output_type": "stream",
     "text": [
      "이자보상배율 전처리 후 :  (18838, 75)\n"
     ]
    }
   ],
   "source": [
    "df3 = df2.copy()\n",
    "\n",
    "# 이자보상배율이 NaN인 기업\n",
    "nan_icr_list = df3['회사명'][df3['이자보상배율'].isna()].index\n",
    "\n",
    "\n",
    "# 이자보상배율이 NaN인 행 제거\n",
    "df3.drop(df3.index[nan_icr_list], inplace=True)\n",
    "df3.reset_index(drop=True, inplace=True)\n",
    "\n",
    "\n",
    "# 이자보상배율이 999999999인 것을 해당 기업의 평균 이자보상배율 값으로 대체\n",
    "df3.loc[df3['이자보상배율']==999999999, '이자보상배율'] = np.nan\n",
    "df3['이자보상배율'] = df3['이자보상배율'].fillna(df3.groupby('회사명')['이자보상배율'].transform('mean'))\n",
    "print('이자보상배율 전처리 후 : ', df3.shape)"
   ]
  },
  {
   "cell_type": "markdown",
   "metadata": {},
   "source": [
    "### 거래소코드 전처리"
   ]
  },
  {
   "cell_type": "code",
   "execution_count": 72,
   "metadata": {},
   "outputs": [],
   "source": [
    "# 거래소 코드 6자리가 아닌 것들은 6자리가 될 때까지 앞에 0 추가\n",
    "df3['거래소코드'] = df3['거래소코드'].astype(str).str.zfill(6)"
   ]
  },
  {
   "cell_type": "markdown",
   "metadata": {},
   "source": [
    "### 기술성장기업 전처리(제거)"
   ]
  },
  {
   "cell_type": "code",
   "execution_count": 73,
   "metadata": {},
   "outputs": [
    {
     "name": "stdout",
     "output_type": "stream",
     "text": [
      "기술성장기업의 코드와 겹치는 행 제거 :  (18215, 75)\n",
      "(주)큐리언트 제거 :  (18209, 75)\n",
      "(주)카이노스메드 제거 :  (18205, 75)\n"
     ]
    }
   ],
   "source": [
    "df4 = df3.copy()\n",
    "\n",
    "# 기술성장기업 불러오기\n",
    "tg_df = pd.read_csv('데이터/data/기술성장기업list.csv', encoding='CP949')\n",
    "\n",
    "\n",
    "# 종목코드가 6자리가 아닌 것들 앞에 0추가\n",
    "tg_df['종목코드'] = tg_df['종목코드'].astype(str).str.zfill(6)\n",
    "\n",
    "\n",
    "# 제거해야할 기술성장기업 종목코드 리스트\n",
    "tg_code_list = tg_df['종목코드'].unique().tolist()\n",
    "\n",
    "\n",
    "# 기술성장기업의 코드와 겹치는 행 제거\n",
    "df4 = df4.drop(df4[df4['거래소코드'].isin(tg_code_list)].index)\n",
    "df4.reset_index(drop=True, inplace=True)\n",
    "print('기술성장기업의 코드와 겹치는 행 제거 : ', df4.shape) \n",
    "\n",
    "\n",
    "# (주)큐리언트 제거\n",
    "company_drop_list = ['(주)큐리언트']\n",
    "df4.drop(df4[df4['회사명'].isin(company_drop_list)].index, inplace=True)\n",
    "df4.reset_index(drop=True, inplace=True)\n",
    "print('(주)큐리언트 제거 : ', df4.shape)\n",
    "\n",
    "\n",
    "# (주)카이노스메드 제거\n",
    "df4.drop(df4[df4['회사명']=='(주)카이노스메드'].index, inplace=True)\n",
    "df4.reset_index(drop=True, inplace=True)\n",
    "print('(주)카이노스메드 제거 : ', df4.shape)"
   ]
  },
  {
   "cell_type": "markdown",
   "metadata": {},
   "source": [
    "### 거래소코드 9로 시작하는 기업 전처리(제거)"
   ]
  },
  {
   "cell_type": "code",
   "execution_count": 74,
   "metadata": {},
   "outputs": [
    {
     "name": "stdout",
     "output_type": "stream",
     "text": [
      "거래소코드가 9로 시작하는 기업 제거 :  (18070, 75)\n"
     ]
    }
   ],
   "source": [
    "df5 = df4.copy()\n",
    "\n",
    "# 거래소코드가 9로 시작하는 기업\n",
    "code_nine_list = df5['회사명'][df5['거래소코드'].astype(str).str.startswith('9')].unique()\n",
    "\n",
    "\n",
    "# 거래소코드가 9로 시작하는 기업 제거\n",
    "df5 = df5[~df5['회사명'].isin(code_nine_list)]\n",
    "df5.reset_index(drop=True, inplace=True)\n",
    "print('거래소코드가 9로 시작하는 기업 제거 : ', df5.shape)"
   ]
  },
  {
   "cell_type": "markdown",
   "metadata": {},
   "source": [
    "### 제무재표 기록이 하나인 기업 전처리(제거)"
   ]
  },
  {
   "cell_type": "code",
   "execution_count": 75,
   "metadata": {},
   "outputs": [
    {
     "name": "stdout",
     "output_type": "stream",
     "text": [
      "기업 기록이 하나인 기업 제거 :  (17968, 75)\n"
     ]
    }
   ],
   "source": [
    "df6 = df5.copy()\n",
    "\n",
    "# 기업 기록이 하나인 기업\n",
    "single_rows = df6['회사명'].value_counts() < 2\n",
    "\n",
    "# 기업 기록이 하나인 기업 제거\n",
    "df6 = df6[~df6['회사명'].isin(single_rows[single_rows].index)]\n",
    "df6.reset_index(drop=True, inplace=True)\n",
    "print('기업 기록이 하나인 기업 제거 : ', df6.shape)"
   ]
  },
  {
   "cell_type": "markdown",
   "metadata": {},
   "source": [
    "### 회사명은 하난데 거래소코드가 두개 이상인 회사 전처리(제거)"
   ]
  },
  {
   "cell_type": "code",
   "execution_count": 76,
   "metadata": {},
   "outputs": [
    {
     "name": "stdout",
     "output_type": "stream",
     "text": [
      "회사명은 하난데 거래소코드가 두개 이상인 회사 제거 :  (17856, 75)\n"
     ]
    }
   ],
   "source": [
    "df7 = df6.copy()\n",
    "\n",
    "# 회사명은 하난데 거래소코드가 두개 이상인 회사\n",
    "dup_comp = df7.groupby('회사명')['거래소코드'].nunique() > 1\n",
    "dup_comp[dup_comp].index.values\n",
    "\n",
    "\n",
    "# 삭제\n",
    "company_drop_list = ['(주)본느', '(주)세화피앤씨', '(주)신성이엔지', '(주)아이엘사이언스', '(주)알로이스', '(주)인산가',\n",
    "       '(주)정다운', '(주)티에스트릴리온', '(주)포인트엔지니어링', '(주)한국비엔씨', '삼성물산(주)',\n",
    "       '씨아이에스(주)', '에스케이(주)', '엠에프엠코리아(주)', '줌인터넷(주)', '패션플랫폼(주)']\n",
    "df7.drop(df7[df7['회사명'].isin(company_drop_list)].index, inplace=True)\n",
    "df7.reset_index(drop=True, inplace=True)\n",
    "print('회사명은 하난데 거래소코드가 두개 이상인 회사 제거 : ', df7.shape)"
   ]
  },
  {
   "cell_type": "markdown",
   "metadata": {},
   "source": [
    "### 거래소코드는 하난데 회사명이 두개 이상인 거래소코드 전처리(제거)"
   ]
  },
  {
   "cell_type": "code",
   "execution_count": 77,
   "metadata": {},
   "outputs": [
    {
     "name": "stdout",
     "output_type": "stream",
     "text": [
      "거래소코드는 하난데 회사명이 두개 이상인 거래소코드 제거 :  (17848, 75)\n"
     ]
    }
   ],
   "source": [
    "df8 = df7.copy()\n",
    "\n",
    "# 거래소코드는 하난데 회사명이 두개 이상인 거래소코드\n",
    "dup_code = df8.groupby('거래소코드')['회사명'].nunique() > 1\n",
    "dup_code[dup_code].index.values\n",
    "\n",
    "\n",
    "# 제이콘텐트리와 콘텐트리중앙이 겹치기 때문에 제이콘텐트리 제거\n",
    "df8.drop(df8[df8['회사명']=='(주)제이콘텐트리'].index, inplace=True)\n",
    "df8.reset_index(drop=True, inplace=True)\n",
    "print('거래소코드는 하난데 회사명이 두개 이상인 거래소코드 제거 : ', df8.shape)"
   ]
  },
  {
   "cell_type": "markdown",
   "metadata": {},
   "source": [
    "### 상장일이 두개인데 상장폐지일이 있는 기업 전처리(제거)"
   ]
  },
  {
   "cell_type": "code",
   "execution_count": 78,
   "metadata": {},
   "outputs": [
    {
     "name": "stdout",
     "output_type": "stream",
     "text": [
      "상장일이 두개 이상인데 상장폐지일이 있는 행 삭제 제거 :  (17805, 75)\n"
     ]
    }
   ],
   "source": [
    "df9 = df8.copy()\n",
    "\n",
    "# 상장일이 두개 이상인 기업\n",
    "dup_listdate = df9.groupby(['회사명','거래소코드'])['상장일'].nunique().reset_index()\n",
    "dup_listdate[dup_listdate['상장일']>1]\n",
    "\n",
    "\n",
    "# 상장일이 두개 이상인 기업 리스트\n",
    "dup_listdate_company = dup_listdate['회사명'][dup_listdate['상장일']>1]\n",
    "\n",
    "\n",
    "# 상장일이 두개 이상인데 상장폐지일이 있는 행 삭제\n",
    "df9.drop(df9[df9['회사명'].isin(dup_listdate_company) & df9['상장폐지일'].notnull()].index, inplace=True)\n",
    "df9.reset_index(drop=True, inplace=True)\n",
    "df9[df9['회사명'].isin(dup_listdate_company) & df9['상장폐지일'].notnull()]\n",
    "print('상장일이 두개 이상인데 상장폐지일이 있는 행 삭제 제거 : ', df9.shape)"
   ]
  },
  {
   "cell_type": "markdown",
   "metadata": {},
   "source": [
    "### 회계년도가 상장일 보다 빠른 기업 전처리(제거)"
   ]
  },
  {
   "cell_type": "code",
   "execution_count": 79,
   "metadata": {},
   "outputs": [
    {
     "name": "stdout",
     "output_type": "stream",
     "text": [
      "회계년도가 상장일 보다 빠른 기업 제거 :  (16748, 75)\n",
      "아인스엔앰엔, 에피밸리 제거 :  (16748, 75)\n",
      "(주)카이노스메드 제거 :  (16748, 75)\n"
     ]
    }
   ],
   "source": [
    "df10 = df9.copy()\n",
    "\n",
    "# 회계년도, 상장일 포멧 변경\n",
    "df10['회계년도'] = pd.to_datetime(df10['회계년도'], format='%Y/%m')\n",
    "df10['회계년도'] = df10['회계년도'].dt.strftime('%Y%m')\n",
    "\n",
    "df10['상장일'] = pd.to_datetime(df10['상장일'], format='%Y/%m')\n",
    "df10['상장일'] = df10['상장일'].dt.strftime('%Y%m')\n",
    "\n",
    "\n",
    "# 회계년도가 상장일 보다 빠른 기업 제거\n",
    "df10.drop(df10[df10['회계년도'] < df10['상장일']].index, inplace=True)\n",
    "df10.reset_index(drop=True, inplace=True)\n",
    "print('회계년도가 상장일 보다 빠른 기업 제거 : ', df10.shape)\n",
    "\n",
    "\n",
    "# 아인스엔앰엔, 에피밸리 제거\n",
    "company_drop_list = ['아인스엔앰엔', '에피밸리']\n",
    "df10.drop(df10[df10['회사명'].isin(company_drop_list)].index, inplace=True)\n",
    "df10.reset_index(drop=True, inplace=True)\n",
    "print('아인스엔앰엔, 에피밸리 제거 : ', df10.shape)\n",
    "\n",
    "\n",
    "# (주)카이노스메드 제거\n",
    "df10.drop(df10[df10['회사명']=='(주)카이노스메드'].index, inplace=True)\n",
    "df10.reset_index(drop=True, inplace=True)\n",
    "print('(주)카이노스메드 제거 : ', df10.shape)\n",
    "\n",
    "\n",
    "# 체크포인트\n",
    "df10.to_csv('데이터/정리용/전처리part1.csv', encoding='CP949', index=False)\n"
   ]
  },
  {
   "cell_type": "markdown",
   "metadata": {},
   "source": [
    "## TS대체값 Merge"
   ]
  },
  {
   "cell_type": "code",
   "execution_count": 86,
   "metadata": {},
   "outputs": [
    {
     "name": "stdout",
     "output_type": "stream",
     "text": [
      "<전처리part1>\n",
      "행렬 수 :  (16748, 75)\n",
      "회사 수 :  2041\n",
      "\n",
      "<파생변수merge_1차>\n",
      "행렬 수 :  (16748, 81)\n",
      "회사 수 :  2041\n",
      "\n",
      "<파생변수merge_성장성>\n",
      "행렬 수 :  (16748, 80)\n",
      "회사 수 :  2041\n"
     ]
    }
   ],
   "source": [
    "# 전처리part1 불러오기\n",
    "df = pd.read_csv('데이터/정리용/전처리part1.csv', encoding='CP949')\n",
    "\n",
    "# 파생변수 1차 불러오기\n",
    "first = pd.read_csv('데이터/정리용/파생변수merge_1차.csv', encoding='CP949')\n",
    "growth = pd.read_csv('데이터/정리용/파생변수merge_성장성.csv', encoding='CP949')\n",
    "\n",
    "\n",
    "# 연결, 개별, 케이갭 데이터 비교하고 확인\n",
    "print('<전처리part1>')\n",
    "print('행렬 수 : ', df.shape)\n",
    "print('회사 수 : ', df['회사명'].nunique())\n",
    "\n",
    "print('\\n<파생변수merge_1차>')\n",
    "print('행렬 수 : ', first.shape)\n",
    "print('회사 수 : ', first['회사명'].nunique())\n",
    "\n",
    "print('\\n<파생변수merge_성장성>')\n",
    "print('행렬 수 : ', growth.shape)\n",
    "print('회사 수 : ', growth['회사명'].nunique())"
   ]
  },
  {
   "cell_type": "code",
   "execution_count": 87,
   "metadata": {},
   "outputs": [
    {
     "data": {
      "text/plain": [
       "Index(['회사명', '거래소코드', '회계년도', '상장일', '상장폐지일', '업종', '총자본증가율', '정상영업이익증가율',\n",
       "       '순이익증가율', '자기자본증가율', '매출액증가율', '종업원수증가율', '유형자산증가율', '유동자산증가율',\n",
       "       '재고자산증가율', '자기자본구성비율', '유동비율', '당좌비율', '현금비율', '재고자산 대 순운전자본비율',\n",
       "       '매출채권 대 매입채무비율', '부채비율', '이자보상배율', 'CASH FLOW 대 부채비율',\n",
       "       'CASH FLOW 대 차입금비율', 'CASH FLOW 대 총자본비율', 'CASH FLOW 대 매출액비율',\n",
       "       '유동자산구성비율', '재고자산 대 유동자산비율', '타인자본구성비율', '자기자본배율', '매출채권비율', '유동부채비율',\n",
       "       '단기차입금 대 총차입금비율', '차입금의존도', '차입금비율', '종업원1인당 부가가치', '노동장비율', '기계장비율',\n",
       "       '자본집약도', '총자본투자효율', '설비투자효율', '기계투자효율', '부가가치율', '노동소득분배율', '매출액총이익률',\n",
       "       '매출액정상영업이익률', '매출액순이익률', '총자본순이익률', '총자본정상영업이익률', '자기자본정상영업이익률',\n",
       "       '자기자본순이익률', '금융비용부담률', '수지비율', '사내유보 대 자기자본비율', '1주당매출액', '1주당순이익',\n",
       "       '1주당 CASH FLOW', '1주당순자산', '유보율', '금융손익비율', '매출원가 대 매출액비율', '이자부담률',\n",
       "       '지급이자율', '차입금평균이자율', '총자본회전률', '자기자본회전률', '타인자본회전률', '유동자산회전률',\n",
       "       '당좌자산회전률', '재고자산회전률', '매출채권회전률', '순운전자본회전률', '운전자본회전률', '유형자산회전율'],\n",
       "      dtype='object')"
      ]
     },
     "execution_count": 87,
     "metadata": {},
     "output_type": "execute_result"
    }
   ],
   "source": [
    "df.columns"
   ]
  },
  {
   "cell_type": "code",
   "execution_count": 99,
   "metadata": {},
   "outputs": [],
   "source": [
    "# 컬럼 재정렬\n",
    "df = df[['회사명', '거래소코드', '회계년도', '상장일', '상장폐지일', '업종', '총자본증가율', '정상영업이익증가율',\n",
    "       '순이익증가율', '자기자본증가율', '매출액증가율', '종업원수증가율', '유형자산증가율', '유동자산증가율',\n",
    "       '재고자산증가율', '자기자본구성비율', '유동비율', '당좌비율', '현금비율', '재고자산 대 순운전자본비율',\n",
    "       '매출채권 대 매입채무비율', '부채비율', '이자보상배율', 'CASH FLOW 대 부채비율',\n",
    "       'CASH FLOW 대 차입금비율', 'CASH FLOW 대 총자본비율', 'CASH FLOW 대 매출액비율',\n",
    "       '유동자산구성비율', '재고자산 대 유동자산비율', '타인자본구성비율', '자기자본배율', '매출채권비율', '유동부채비율',\n",
    "       '단기차입금 대 총차입금비율', '차입금의존도', '차입금비율', '종업원1인당 부가가치', '노동장비율', '기계장비율',\n",
    "       '자본집약도', '총자본투자효율', '설비투자효율', '기계투자효율', '부가가치율', '노동소득분배율', '매출액총이익률',\n",
    "       '매출액정상영업이익률', '매출액순이익률', '총자본순이익률', '총자본정상영업이익률', '자기자본정상영업이익률',\n",
    "       '자기자본순이익률', '금융비용부담률', '수지비율', '사내유보 대 자기자본비율', '1주당매출액', '1주당순이익',\n",
    "       '1주당 CASH FLOW', '1주당순자산', '유보율', '금융손익비율', '매출원가 대 매출액비율', '이자부담률',\n",
    "       '지급이자율', '차입금평균이자율', '총자본회전률', '자기자본회전률', '타인자본회전률', '유동자산회전률',\n",
    "       '당좌자산회전률', '재고자산회전률', '매출채권회전률', '순운전자본회전률', '운전자본회전률', '유형자산회전율'\n",
    "       ]]\n",
    "\n",
    "\n",
    "df_part2 = df.copy()\n",
    "\n",
    "# 파생변수 추가하기\n",
    "df_part2[['종업원1인당부가가치율_계산', '노동장비율_계산', '기계장비율_계산', '자본집약도_계산', '자기자본구성비율_계산',\n",
    "       '재고자산대순운전자본비율_계산']] = first[['종업원1인당부가가치율_계산', '노동장비율_계산', '기계장비율_계산', '자본집약도_계산', '자기자본구성비율_계산',\n",
    "       '재고자산대순운전자본비율_계산']] \n",
    "df_part2[['총자산증가율_계산', '자기자본증가율_계산', '정상영업손익증가율_계산', '순이익증가율_계산', '매출액증가율_계산']] = growth[['총자산증가율_계산', \n",
    "       '자기자본증가율_계산', '정상영업손익증가율_계산', '순이익증가율_계산', '매출액증가율_계산']]\n",
    "\n",
    "df_part2_copy = df_part2.copy()\n",
    "\n",
    "\n",
    "# 칼럼 삭제\n",
    "df_part2_copy.drop(columns=['종업원1인당 부가가치', '노동장비율', '기계장비율', '자본집약도', '자기자본구성비율', '재고자산 대 순운전자본비율',\n",
    "       '총자본증가율', '정상영업이익증가율', '순이익증가율', '자기자본증가율', '매출액증가율',\n",
    "       '유형자산증가율', '유동자산증가율', '재고자산증가율', '유동자산구성비율', '재고자산 대 유동자산비율', '타인자본구성비율', '자기자본배율',\n",
    "       '매출채권비율', '유동부채비율', '단기차입금 대 총차입금비율', '차입금의존도', '차입금비율', '금융손익비율', '매출원가 대 매출액비율',\n",
    "       '이자부담률', '지급이자율', '차입금평균이자율', '유형자산회전율'], inplace=True)\n",
    "\n",
    "\n",
    "# 컬럼 재정렬\n",
    "df_part2_copy = df_part2_copy[['회사명', '거래소코드', '회계년도', '상장일', '상장폐지일', '업종',\n",
    "        '총자산증가율_계산', '정상영업손익증가율_계산', '순이익증가율_계산', '자기자본증가율_계산', '매출액증가율_계산', '종업원수증가율', #성장률\n",
    "        \n",
    "        '매출액총이익률', '매출액정상영업이익률', '매출액순이익률', '총자본순이익률', '총자본정상영업이익률',\n",
    "        '자기자본정상영업이익률', '자기자본순이익률', '금융비용부담률', '수지비율', '사내유보 대 자기자본비율', '1주당매출액', \n",
    "        '1주당순이익', '1주당 CASH FLOW', '1주당순자산', '유보율', # 수익성\n",
    "        \n",
    "        '자기자본구성비율_계산', '유동비율', '당좌비율', '현금비율', '재고자산대순운전자본비율_계산', '매출채권 대 매입채무비율',\n",
    "        '부채비율', '이자보상배율', 'CASH FLOW 대 부채비율', 'CASH FLOW 대 차입금비율',\n",
    "        'CASH FLOW 대 총자본비율', 'CASH FLOW 대 매출액비율', #안전성\n",
    "                \n",
    "        '종업원1인당부가가치율_계산', '노동장비율_계산', '기계장비율_계산', '자본집약도_계산', '총자본투자효율', '설비투자효율', '기계투자효율',\n",
    "        '부가가치율', '노동소득분배율', # 생산성 기존\n",
    "                \n",
    "        '총자본회전률', '자기자본회전률', '타인자본회전률', '유동자산회전률', '당좌자산회전률', '재고자산회전률', \n",
    "        '매출채권회전률', '순운전자본회전률', #활동성기존\n",
    "        '운전자본회전률']] #활동성 new 컬럼\n",
    "\n",
    "\n",
    "# 칼럼명 수정\n",
    "df_part2_copy = df_part2_copy.rename(columns={'총자산증가율_계산' : '총자본증가율_계산'})\n",
    "\n",
    "# 저장\n",
    "df_part2_copy.to_csv('데이터/정리용/전처리part2.csv', index=False, encoding='CP949')\n"
   ]
  },
  {
   "cell_type": "code",
   "execution_count": null,
   "metadata": {},
   "outputs": [],
   "source": []
  },
  {
   "cell_type": "code",
   "execution_count": null,
   "metadata": {},
   "outputs": [],
   "source": []
  },
  {
   "cell_type": "code",
   "execution_count": null,
   "metadata": {},
   "outputs": [],
   "source": []
  },
  {
   "cell_type": "code",
   "execution_count": null,
   "metadata": {},
   "outputs": [],
   "source": []
  },
  {
   "cell_type": "code",
   "execution_count": null,
   "metadata": {},
   "outputs": [],
   "source": []
  },
  {
   "cell_type": "code",
   "execution_count": null,
   "metadata": {},
   "outputs": [],
   "source": []
  },
  {
   "cell_type": "code",
   "execution_count": null,
   "metadata": {},
   "outputs": [],
   "source": []
  },
  {
   "cell_type": "code",
   "execution_count": null,
   "metadata": {},
   "outputs": [],
   "source": []
  },
  {
   "cell_type": "code",
   "execution_count": null,
   "metadata": {},
   "outputs": [],
   "source": []
  },
  {
   "cell_type": "code",
   "execution_count": null,
   "metadata": {},
   "outputs": [],
   "source": []
  }
 ],
 "metadata": {
  "kernelspec": {
   "display_name": "Python 3.8.8 ('base')",
   "language": "python",
   "name": "python3"
  },
  "language_info": {
   "codemirror_mode": {
    "name": "ipython",
    "version": 3
   },
   "file_extension": ".py",
   "mimetype": "text/x-python",
   "name": "python",
   "nbconvert_exporter": "python",
   "pygments_lexer": "ipython3",
   "version": "3.8.8"
  },
  "orig_nbformat": 4,
  "vscode": {
   "interpreter": {
    "hash": "bb818233b7b178884264e8dd05094efd4a6668b508f3d13c74764f741e7879a4"
   }
  }
 },
 "nbformat": 4,
 "nbformat_minor": 2
}
