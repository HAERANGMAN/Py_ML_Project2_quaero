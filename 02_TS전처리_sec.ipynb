{
 "cells": [
  {
   "cell_type": "code",
   "execution_count": 317,
   "metadata": {},
   "outputs": [],
   "source": [
    "import pandas as pd"
   ]
  },
  {
   "cell_type": "markdown",
   "metadata": {},
   "source": [
    "### [K-IFRS] 연결기업 - 별도기업 병합(영업이익, 당기순이익, 매출액)"
   ]
  },
  {
   "cell_type": "code",
   "execution_count": 360,
   "metadata": {},
   "outputs": [],
   "source": [
    "# 데이터 불러오기\n",
    "con = pd.read_csv('데이터/data/연결기업_성장률.csv', encoding='CP949')\n",
    "sep = pd.read_csv('데이터/data/별도기업_성장률.csv', encoding='CP949')\n",
    "\n",
    "# 모든 컬럼, 로우 출력/요약 출력\n",
    "pd.set_option('display.max_columns', None)\n",
    "pd.reset_option('display.max_rows', None)"
   ]
  },
  {
   "cell_type": "code",
   "execution_count": 361,
   "metadata": {},
   "outputs": [
    {
     "data": {
      "text/plain": [
       "(20929, 6)"
      ]
     },
     "execution_count": 361,
     "metadata": {},
     "output_type": "execute_result"
    }
   ],
   "source": [
    "# 데이터 프레임 행렬 수 출력\n",
    "\n",
    "con.shape\n",
    "## (20929, 6)\n",
    "\n",
    "sep.shape\n",
    "## (20929, 6)"
   ]
  },
  {
   "cell_type": "code",
   "execution_count": 363,
   "metadata": {},
   "outputs": [
    {
     "data": {
      "text/plain": [
       "2454"
      ]
     },
     "execution_count": 363,
     "metadata": {},
     "output_type": "execute_result"
    }
   ],
   "source": [
    "# 회사 수\n",
    "\n",
    "con['회사명'].nunique()\n",
    "## 2454\n",
    "\n",
    "sep['회사명'].nunique()\n",
    "## 2454"
   ]
  },
  {
   "cell_type": "code",
   "execution_count": 365,
   "metadata": {},
   "outputs": [
    {
     "data": {
      "text/plain": [
       "회사명                             0\n",
       "거래소코드                           0\n",
       "회계년도                            0\n",
       "매출액(수익)(*)(IFRS연결)           6310\n",
       "* (정상)영업손익(보고서기재)(IFRS연결)    6310\n",
       "당기순이익(손실)(IFRS연결)            6310\n",
       "dtype: int64"
      ]
     },
     "execution_count": 365,
     "metadata": {},
     "output_type": "execute_result"
    }
   ],
   "source": [
    "# 데이터 프레임 결측치 합 확인\n",
    "con.isna().sum()"
   ]
  },
  {
   "cell_type": "code",
   "execution_count": 366,
   "metadata": {},
   "outputs": [
    {
     "data": {
      "text/plain": [
       "회사명                           0\n",
       "거래소코드                         0\n",
       "회계년도                          0\n",
       "매출액(수익)(*)(IFRS)           1814\n",
       "당기순이익(손실)(IFRS)            1814\n",
       "* (정상)영업손익(보고서기재)(IFRS)    1814\n",
       "dtype: int64"
      ]
     },
     "execution_count": 366,
     "metadata": {},
     "output_type": "execute_result"
    }
   ],
   "source": [
    "sep.isna().sum()"
   ]
  },
  {
   "cell_type": "code",
   "execution_count": 383,
   "metadata": {},
   "outputs": [
    {
     "data": {
      "text/plain": [
       "Index(['회사명', '거래소코드', '회계년도', '매출액', ' 영업손익', '당기순이익'], dtype='object')"
      ]
     },
     "execution_count": 383,
     "metadata": {},
     "output_type": "execute_result"
    }
   ],
   "source": [
    "# 컬럼명 확인\n",
    "con.columns"
   ]
  },
  {
   "cell_type": "code",
   "execution_count": 384,
   "metadata": {},
   "outputs": [
    {
     "name": "stderr",
     "output_type": "stream",
     "text": [
      "<ipython-input-384-638e5e05a2ec>:3: FutureWarning: The default value of regex will change from True to False in a future version. In addition, single character regular expressions will*not* be treated as literal strings when regex=True.\n",
      "  con.columns = con.columns.str.replace('(', '')\n",
      "<ipython-input-384-638e5e05a2ec>:4: FutureWarning: The default value of regex will change from True to False in a future version. In addition, single character regular expressions will*not* be treated as literal strings when regex=True.\n",
      "  con.columns = con.columns.str.replace(')', '')\n",
      "<ipython-input-384-638e5e05a2ec>:6: FutureWarning: The default value of regex will change from True to False in a future version. In addition, single character regular expressions will*not* be treated as literal strings when regex=True.\n",
      "  con.columns = con.columns.str.replace('*', '')\n"
     ]
    },
    {
     "data": {
      "text/plain": [
       "Index(['회사명', '거래소코드', '회계년도', '매출액', '영업손익', '당기순이익'], dtype='object')"
      ]
     },
     "execution_count": 384,
     "metadata": {},
     "output_type": "execute_result"
    }
   ],
   "source": [
    "# 컬럼명 불필요 문자 제거\n",
    "con.columns = con.columns.str.replace('수익', '')\n",
    "con.columns = con.columns.str.replace('(', '')\n",
    "con.columns = con.columns.str.replace(')', '')\n",
    "con.columns = con.columns.str.replace('IFRS연결', '')\n",
    "con.columns = con.columns.str.replace('*', '')\n",
    "con.columns = con.columns.str.replace('보고서기재', '')\n",
    "con.columns = con.columns.str.replace('손실', '')\n",
    "con.columns = con.columns.str.replace('정상', '')\n",
    "con.columns = con.columns.str.replace(' ', '')\n",
    "con.columns"
   ]
  },
  {
   "cell_type": "code",
   "execution_count": 385,
   "metadata": {},
   "outputs": [
    {
     "data": {
      "text/plain": [
       "Index(['회사명', '거래소코드', '회계년도', '매출액', '당기순이익', '영업손익'], dtype='object')"
      ]
     },
     "execution_count": 385,
     "metadata": {},
     "output_type": "execute_result"
    }
   ],
   "source": [
    "# 컬럼명 확인\n",
    "sep.columns"
   ]
  },
  {
   "cell_type": "code",
   "execution_count": 386,
   "metadata": {},
   "outputs": [
    {
     "name": "stderr",
     "output_type": "stream",
     "text": [
      "<ipython-input-386-7f5a5ff74380>:3: FutureWarning: The default value of regex will change from True to False in a future version. In addition, single character regular expressions will*not* be treated as literal strings when regex=True.\n",
      "  sep.columns = sep.columns.str.replace('(', '')\n",
      "<ipython-input-386-7f5a5ff74380>:4: FutureWarning: The default value of regex will change from True to False in a future version. In addition, single character regular expressions will*not* be treated as literal strings when regex=True.\n",
      "  sep.columns = sep.columns.str.replace(')', '')\n",
      "<ipython-input-386-7f5a5ff74380>:6: FutureWarning: The default value of regex will change from True to False in a future version. In addition, single character regular expressions will*not* be treated as literal strings when regex=True.\n",
      "  sep.columns = sep.columns.str.replace('*', '')\n"
     ]
    },
    {
     "data": {
      "text/plain": [
       "Index(['회사명', '거래소코드', '회계년도', '매출액', '당기순이익', '영업손익'], dtype='object')"
      ]
     },
     "execution_count": 386,
     "metadata": {},
     "output_type": "execute_result"
    }
   ],
   "source": [
    "# 컬럼명 불필요 문자 제거\n",
    "sep.columns = sep.columns.str.replace('수익', '')\n",
    "sep.columns = sep.columns.str.replace('(', '')\n",
    "sep.columns = sep.columns.str.replace(')', '')\n",
    "sep.columns = sep.columns.str.replace('IFRS', '')\n",
    "sep.columns = sep.columns.str.replace('*', '')\n",
    "sep.columns = sep.columns.str.replace('보고서기재', '')\n",
    "sep.columns = sep.columns.str.replace('손실', '')\n",
    "sep.columns = sep.columns.str.replace('정상', '')\n",
    "sep.columns = sep.columns.str.replace(' ', '')\n",
    "sep.columns"
   ]
  },
  {
   "cell_type": "code",
   "execution_count": 388,
   "metadata": {},
   "outputs": [
    {
     "data": {
      "text/plain": [
       "Index(['회사명', '거래소코드', '회계년도', '영업손익', '당기순이익', '매출액'], dtype='object')"
      ]
     },
     "execution_count": 388,
     "metadata": {},
     "output_type": "execute_result"
    }
   ],
   "source": [
    "# 컬럼명 재정렬\n",
    "con = con[['회사명', '거래소코드', '회계년도', '영업손익', '당기순이익', '매출액']]\n",
    "# con.columns"
   ]
  },
  {
   "cell_type": "code",
   "execution_count": 391,
   "metadata": {},
   "outputs": [],
   "source": [
    "sep = sep[['회사명', '거래소코드', '회계년도', '영업손익', '당기순이익', '매출액']]\n",
    "# sep.columns"
   ]
  },
  {
   "cell_type": "code",
   "execution_count": 395,
   "metadata": {},
   "outputs": [
    {
     "name": "stdout",
     "output_type": "stream",
     "text": [
      "['회사명', '거래소코드', '회계년도', '영업손익', '당기순이익', '매출액']\n"
     ]
    }
   ],
   "source": [
    "# K-IFRS_연결 데이터프레임의 컬럼명을 리스트로 저장\n",
    "con_list = con.columns.tolist()\n",
    "print(con_list)"
   ]
  },
  {
   "cell_type": "code",
   "execution_count": 396,
   "metadata": {},
   "outputs": [
    {
     "data": {
      "text/html": [
       "<div>\n",
       "<style scoped>\n",
       "    .dataframe tbody tr th:only-of-type {\n",
       "        vertical-align: middle;\n",
       "    }\n",
       "\n",
       "    .dataframe tbody tr th {\n",
       "        vertical-align: top;\n",
       "    }\n",
       "\n",
       "    .dataframe thead th {\n",
       "        text-align: right;\n",
       "    }\n",
       "</style>\n",
       "<table border=\"1\" class=\"dataframe\">\n",
       "  <thead>\n",
       "    <tr style=\"text-align: right;\">\n",
       "      <th></th>\n",
       "      <th>회사명</th>\n",
       "      <th>거래소코드</th>\n",
       "      <th>회계년도</th>\n",
       "      <th>영업손익</th>\n",
       "      <th>당기순이익</th>\n",
       "      <th>매출액</th>\n",
       "    </tr>\n",
       "  </thead>\n",
       "  <tbody>\n",
       "    <tr>\n",
       "      <th>0</th>\n",
       "      <td>(주)CMG제약</td>\n",
       "      <td>58820</td>\n",
       "      <td>2011/12</td>\n",
       "      <td>640283.0</td>\n",
       "      <td>-1508282.0</td>\n",
       "      <td>17751704.0</td>\n",
       "    </tr>\n",
       "    <tr>\n",
       "      <th>1</th>\n",
       "      <td>(주)CMG제약</td>\n",
       "      <td>58820</td>\n",
       "      <td>2012/12</td>\n",
       "      <td>-4205503.0</td>\n",
       "      <td>-6660149.0</td>\n",
       "      <td>16255389.0</td>\n",
       "    </tr>\n",
       "    <tr>\n",
       "      <th>2</th>\n",
       "      <td>(주)CMG제약</td>\n",
       "      <td>58820</td>\n",
       "      <td>2013/12</td>\n",
       "      <td>791250.0</td>\n",
       "      <td>296181.0</td>\n",
       "      <td>20402140.0</td>\n",
       "    </tr>\n",
       "    <tr>\n",
       "      <th>3</th>\n",
       "      <td>(주)CMG제약</td>\n",
       "      <td>58820</td>\n",
       "      <td>2014/12</td>\n",
       "      <td>442322.0</td>\n",
       "      <td>158039.0</td>\n",
       "      <td>22752584.0</td>\n",
       "    </tr>\n",
       "    <tr>\n",
       "      <th>4</th>\n",
       "      <td>(주)CMG제약</td>\n",
       "      <td>58820</td>\n",
       "      <td>2015/12</td>\n",
       "      <td>-2572168.0</td>\n",
       "      <td>-3650091.0</td>\n",
       "      <td>27041894.0</td>\n",
       "    </tr>\n",
       "    <tr>\n",
       "      <th>...</th>\n",
       "      <td>...</td>\n",
       "      <td>...</td>\n",
       "      <td>...</td>\n",
       "      <td>...</td>\n",
       "      <td>...</td>\n",
       "      <td>...</td>\n",
       "    </tr>\n",
       "    <tr>\n",
       "      <th>20924</th>\n",
       "      <td>흥아해운(주)</td>\n",
       "      <td>3280</td>\n",
       "      <td>2016/12</td>\n",
       "      <td>5895873.0</td>\n",
       "      <td>-17173253.0</td>\n",
       "      <td>831746081.0</td>\n",
       "    </tr>\n",
       "    <tr>\n",
       "      <th>20925</th>\n",
       "      <td>흥아해운(주)</td>\n",
       "      <td>3280</td>\n",
       "      <td>2017/12</td>\n",
       "      <td>-13098624.0</td>\n",
       "      <td>-73500411.0</td>\n",
       "      <td>836427496.0</td>\n",
       "    </tr>\n",
       "    <tr>\n",
       "      <th>20926</th>\n",
       "      <td>흥아해운(주)</td>\n",
       "      <td>3280</td>\n",
       "      <td>2018/12</td>\n",
       "      <td>-37595967.0</td>\n",
       "      <td>-86540156.0</td>\n",
       "      <td>753865569.0</td>\n",
       "    </tr>\n",
       "    <tr>\n",
       "      <th>20927</th>\n",
       "      <td>흥아해운(주)</td>\n",
       "      <td>3280</td>\n",
       "      <td>2019/12</td>\n",
       "      <td>-12364293.0</td>\n",
       "      <td>-51356551.0</td>\n",
       "      <td>102166838.0</td>\n",
       "    </tr>\n",
       "    <tr>\n",
       "      <th>20928</th>\n",
       "      <td>흥아해운(주)</td>\n",
       "      <td>3280</td>\n",
       "      <td>2020/12</td>\n",
       "      <td>-5797543.0</td>\n",
       "      <td>-50876456.0</td>\n",
       "      <td>88938838.0</td>\n",
       "    </tr>\n",
       "  </tbody>\n",
       "</table>\n",
       "<p>20929 rows × 6 columns</p>\n",
       "</div>"
      ],
      "text/plain": [
       "            회사명  거래소코드     회계년도        영업손익       당기순이익          매출액\n",
       "0      (주)CMG제약  58820  2011/12    640283.0  -1508282.0   17751704.0\n",
       "1      (주)CMG제약  58820  2012/12  -4205503.0  -6660149.0   16255389.0\n",
       "2      (주)CMG제약  58820  2013/12    791250.0    296181.0   20402140.0\n",
       "3      (주)CMG제약  58820  2014/12    442322.0    158039.0   22752584.0\n",
       "4      (주)CMG제약  58820  2015/12  -2572168.0  -3650091.0   27041894.0\n",
       "...         ...    ...      ...         ...         ...          ...\n",
       "20924   흥아해운(주)   3280  2016/12   5895873.0 -17173253.0  831746081.0\n",
       "20925   흥아해운(주)   3280  2017/12 -13098624.0 -73500411.0  836427496.0\n",
       "20926   흥아해운(주)   3280  2018/12 -37595967.0 -86540156.0  753865569.0\n",
       "20927   흥아해운(주)   3280  2019/12 -12364293.0 -51356551.0  102166838.0\n",
       "20928   흥아해운(주)   3280  2020/12  -5797543.0 -50876456.0   88938838.0\n",
       "\n",
       "[20929 rows x 6 columns]"
      ]
     },
     "execution_count": 396,
     "metadata": {},
     "output_type": "execute_result"
    }
   ],
   "source": [
    "# K-IFRS_연결기업 데이터프레임의 결측치를 개별기업 데이터로 대체\n",
    "for i in con_list:\n",
    "    con[i] = con[i].fillna(sep[i])\n",
    "con"
   ]
  },
  {
   "cell_type": "code",
   "execution_count": 397,
   "metadata": {},
   "outputs": [],
   "source": [
    "# 데이터 프레임 저장\n",
    "con.to_csv('데이터/1차 전처리/K-IFRS_성장률_별도병합.csv', encoding='CP949')"
   ]
  },
  {
   "cell_type": "code",
   "execution_count": 398,
   "metadata": {},
   "outputs": [
    {
     "data": {
      "text/plain": [
       "회사명         0\n",
       "거래소코드       0\n",
       "회계년도        0\n",
       "영업손익     1699\n",
       "당기순이익    1699\n",
       "매출액      1699\n",
       "dtype: int64"
      ]
     },
     "execution_count": 398,
     "metadata": {},
     "output_type": "execute_result"
    }
   ],
   "source": [
    "# 데이터 프레임 결측치 합 확인\n",
    "con.isna().sum()"
   ]
  },
  {
   "cell_type": "markdown",
   "metadata": {},
   "source": [
    "--------"
   ]
  },
  {
   "cell_type": "markdown",
   "metadata": {},
   "source": [
    "### [K-GAAP] 연결기업 - 별도기업 병합(영업이익, 당기순이익, 매출액)"
   ]
  },
  {
   "cell_type": "code",
   "execution_count": 318,
   "metadata": {},
   "outputs": [],
   "source": [
    "# 데이터 불러오기\n",
    "kgaap_con = pd.read_csv('데이터/data/K-GAAP_연결_성장률.csv', encoding='CP949')\n",
    "kgaap_sep = pd.read_csv('데이터/data/K-GAAP_별도_성장률.csv', encoding='CP949')\n",
    "\n",
    "# 모든 컬럼, 로우 출력/요약 출력\n",
    "pd.set_option('display.max_columns', None)\n",
    "pd.reset_option('display.max_rows', None)"
   ]
  },
  {
   "cell_type": "code",
   "execution_count": 319,
   "metadata": {},
   "outputs": [
    {
     "data": {
      "text/plain": [
       "(15706, 6)"
      ]
     },
     "execution_count": 319,
     "metadata": {},
     "output_type": "execute_result"
    }
   ],
   "source": [
    "# 데이터 프레임 행렬 수 출력\n",
    "\n",
    "kgaap_con.shape\n",
    "## (15706, 6)\n",
    "\n",
    "kgaap_sep.shape\n",
    "## (15706, 6)"
   ]
  },
  {
   "cell_type": "code",
   "execution_count": 320,
   "metadata": {},
   "outputs": [
    {
     "data": {
      "text/plain": [
       "1983"
      ]
     },
     "execution_count": 320,
     "metadata": {},
     "output_type": "execute_result"
    }
   ],
   "source": [
    "# 회사 수\n",
    "\n",
    "kgaap_con['회사명'].nunique()\n",
    "## 1983\n",
    "\n",
    "kgaap_sep['회사명'].nunique()\n",
    "## 1983"
   ]
  },
  {
   "cell_type": "code",
   "execution_count": 321,
   "metadata": {},
   "outputs": [
    {
     "data": {
      "text/plain": [
       "회사명                    0\n",
       "거래소코드                  0\n",
       "회계년도                   0\n",
       "매출액(영업수익)(*)(연결)    9626\n",
       "영업이익(손실)(연결)        9626\n",
       "당기순이익(순손실)(연결)      9626\n",
       "dtype: int64"
      ]
     },
     "execution_count": 321,
     "metadata": {},
     "output_type": "execute_result"
    }
   ],
   "source": [
    "# 데이터 프레임 결측치 합 확인\n",
    "kgaap_con.isna().sum()"
   ]
  },
  {
   "cell_type": "code",
   "execution_count": 322,
   "metadata": {},
   "outputs": [
    {
     "data": {
      "text/plain": [
       "회사명              0\n",
       "거래소코드            0\n",
       "회계년도             0\n",
       "당기순이익(순손실)      75\n",
       "매출액(영업수익)(*)    75\n",
       "영업이익(손실)        75\n",
       "dtype: int64"
      ]
     },
     "execution_count": 322,
     "metadata": {},
     "output_type": "execute_result"
    }
   ],
   "source": [
    "kgaap_sep.isna().sum()"
   ]
  },
  {
   "cell_type": "code",
   "execution_count": 323,
   "metadata": {},
   "outputs": [
    {
     "data": {
      "text/plain": [
       "Index(['회사명', '거래소코드', '회계년도', '매출액(영업수익)(*)(연결)', '영업이익(손실)(연결)',\n",
       "       '당기순이익(순손실)(연결)'],\n",
       "      dtype='object')"
      ]
     },
     "execution_count": 323,
     "metadata": {},
     "output_type": "execute_result"
    }
   ],
   "source": [
    "# 컬럼명 확인\n",
    "kgaap_con.columns"
   ]
  },
  {
   "cell_type": "code",
   "execution_count": 324,
   "metadata": {},
   "outputs": [
    {
     "name": "stderr",
     "output_type": "stream",
     "text": [
      "<ipython-input-324-1eddc8a098f4>:3: FutureWarning: The default value of regex will change from True to False in a future version. In addition, single character regular expressions will*not* be treated as literal strings when regex=True.\n",
      "  kgaap_con.columns = kgaap_con.columns.str.replace('(', '')\n",
      "<ipython-input-324-1eddc8a098f4>:4: FutureWarning: The default value of regex will change from True to False in a future version. In addition, single character regular expressions will*not* be treated as literal strings when regex=True.\n",
      "  kgaap_con.columns = kgaap_con.columns.str.replace(')', '')\n",
      "<ipython-input-324-1eddc8a098f4>:6: FutureWarning: The default value of regex will change from True to False in a future version. In addition, single character regular expressions will*not* be treated as literal strings when regex=True.\n",
      "  kgaap_con.columns = kgaap_con.columns.str.replace('*', '')\n"
     ]
    },
    {
     "data": {
      "text/plain": [
       "Index(['회사명', '거래소코드', '회계년도', '매출액', '영업이익', '당기순이익'], dtype='object')"
      ]
     },
     "execution_count": 324,
     "metadata": {},
     "output_type": "execute_result"
    }
   ],
   "source": [
    "# 컬럼명 불필요 문자 제거\n",
    "kgaap_con.columns = kgaap_con.columns.str.replace('순손실', '')\n",
    "kgaap_con.columns = kgaap_con.columns.str.replace('(', '')\n",
    "kgaap_con.columns = kgaap_con.columns.str.replace(')', '')\n",
    "kgaap_con.columns = kgaap_con.columns.str.replace('영업수익', '')\n",
    "kgaap_con.columns = kgaap_con.columns.str.replace('*', '')\n",
    "kgaap_con.columns = kgaap_con.columns.str.replace('연결', '')\n",
    "kgaap_con.columns = kgaap_con.columns.str.replace('손실', '')\n",
    "kgaap_con.columns"
   ]
  },
  {
   "cell_type": "code",
   "execution_count": 325,
   "metadata": {},
   "outputs": [
    {
     "data": {
      "text/plain": [
       "Index(['회사명', '거래소코드', '회계년도', '당기순이익(순손실)', '매출액(영업수익)(*)', '영업이익(손실)'], dtype='object')"
      ]
     },
     "execution_count": 325,
     "metadata": {},
     "output_type": "execute_result"
    }
   ],
   "source": [
    "# 컬럼명 확인\n",
    "kgaap_sep.columns"
   ]
  },
  {
   "cell_type": "code",
   "execution_count": 326,
   "metadata": {},
   "outputs": [
    {
     "name": "stderr",
     "output_type": "stream",
     "text": [
      "<ipython-input-326-f7f998f6c04f>:2: FutureWarning: The default value of regex will change from True to False in a future version. In addition, single character regular expressions will*not* be treated as literal strings when regex=True.\n",
      "  kgaap_sep.columns = kgaap_sep.columns.str.replace('(', '')\n",
      "<ipython-input-326-f7f998f6c04f>:3: FutureWarning: The default value of regex will change from True to False in a future version. In addition, single character regular expressions will*not* be treated as literal strings when regex=True.\n",
      "  kgaap_sep.columns = kgaap_sep.columns.str.replace(')', '')\n",
      "<ipython-input-326-f7f998f6c04f>:5: FutureWarning: The default value of regex will change from True to False in a future version. In addition, single character regular expressions will*not* be treated as literal strings when regex=True.\n",
      "  kgaap_sep.columns = kgaap_sep.columns.str.replace('*', '')\n"
     ]
    },
    {
     "data": {
      "text/plain": [
       "Index(['회사명', '거래소코드', '회계년도', '당기순이익', '매출액', '영업이익'], dtype='object')"
      ]
     },
     "execution_count": 326,
     "metadata": {},
     "output_type": "execute_result"
    }
   ],
   "source": [
    "kgaap_sep.columns = kgaap_sep.columns.str.replace('순손실', '')\n",
    "kgaap_sep.columns = kgaap_sep.columns.str.replace('(', '')\n",
    "kgaap_sep.columns = kgaap_sep.columns.str.replace(')', '')\n",
    "kgaap_sep.columns = kgaap_sep.columns.str.replace('영업수익', '')\n",
    "kgaap_sep.columns = kgaap_sep.columns.str.replace('*', '')\n",
    "kgaap_sep.columns = kgaap_sep.columns.str.replace('연결', '')\n",
    "kgaap_sep.columns = kgaap_sep.columns.str.replace('손실', '')\n",
    "kgaap_sep.columns"
   ]
  },
  {
   "cell_type": "code",
   "execution_count": 327,
   "metadata": {},
   "outputs": [],
   "source": [
    "# 컬럼명 재정렬\n",
    "kgaap_con = kgaap_con[['회사명', '거래소코드', '회계년도', '영업이익', '당기순이익', '매출액']]\n",
    "# kgaap_con.columns"
   ]
  },
  {
   "cell_type": "code",
   "execution_count": 328,
   "metadata": {},
   "outputs": [],
   "source": [
    "kgaap_sep = kgaap_sep[['회사명', '거래소코드', '회계년도', '영업이익', '당기순이익', '매출액']]\n",
    "# kgaap_sep.columns"
   ]
  },
  {
   "cell_type": "code",
   "execution_count": 329,
   "metadata": {},
   "outputs": [
    {
     "name": "stdout",
     "output_type": "stream",
     "text": [
      "['회사명', '거래소코드', '회계년도', '영업이익', '당기순이익', '매출액']\n"
     ]
    }
   ],
   "source": [
    "# K-GAAP_연결 데이터프레임의 컬럼명을 리스트로 저장\n",
    "kgaap_con_list = kgaap_con.columns.tolist()\n",
    "print(kgaap_con_list)"
   ]
  },
  {
   "cell_type": "code",
   "execution_count": 330,
   "metadata": {},
   "outputs": [
    {
     "data": {
      "text/html": [
       "<div>\n",
       "<style scoped>\n",
       "    .dataframe tbody tr th:only-of-type {\n",
       "        vertical-align: middle;\n",
       "    }\n",
       "\n",
       "    .dataframe tbody tr th {\n",
       "        vertical-align: top;\n",
       "    }\n",
       "\n",
       "    .dataframe thead th {\n",
       "        text-align: right;\n",
       "    }\n",
       "</style>\n",
       "<table border=\"1\" class=\"dataframe\">\n",
       "  <thead>\n",
       "    <tr style=\"text-align: right;\">\n",
       "      <th></th>\n",
       "      <th>회사명</th>\n",
       "      <th>거래소코드</th>\n",
       "      <th>회계년도</th>\n",
       "      <th>영업이익</th>\n",
       "      <th>당기순이익</th>\n",
       "      <th>매출액</th>\n",
       "    </tr>\n",
       "  </thead>\n",
       "  <tbody>\n",
       "    <tr>\n",
       "      <th>0</th>\n",
       "      <td>(주)CMG제약</td>\n",
       "      <td>58820</td>\n",
       "      <td>2001/12</td>\n",
       "      <td>294030.0</td>\n",
       "      <td>110431.0</td>\n",
       "      <td>15822816.0</td>\n",
       "    </tr>\n",
       "    <tr>\n",
       "      <th>1</th>\n",
       "      <td>(주)CMG제약</td>\n",
       "      <td>58820</td>\n",
       "      <td>2002/12</td>\n",
       "      <td>-3817019.0</td>\n",
       "      <td>-2254749.0</td>\n",
       "      <td>26394126.0</td>\n",
       "    </tr>\n",
       "    <tr>\n",
       "      <th>2</th>\n",
       "      <td>(주)CMG제약</td>\n",
       "      <td>58820</td>\n",
       "      <td>2003/12</td>\n",
       "      <td>-914055.0</td>\n",
       "      <td>110249.0</td>\n",
       "      <td>17389284.0</td>\n",
       "    </tr>\n",
       "    <tr>\n",
       "      <th>3</th>\n",
       "      <td>(주)CMG제약</td>\n",
       "      <td>58820</td>\n",
       "      <td>2004/12</td>\n",
       "      <td>-2838322.0</td>\n",
       "      <td>-3873234.0</td>\n",
       "      <td>13083977.0</td>\n",
       "    </tr>\n",
       "    <tr>\n",
       "      <th>4</th>\n",
       "      <td>(주)CMG제약</td>\n",
       "      <td>58820</td>\n",
       "      <td>2005/12</td>\n",
       "      <td>-1994985.0</td>\n",
       "      <td>-2558027.0</td>\n",
       "      <td>4186236.0</td>\n",
       "    </tr>\n",
       "    <tr>\n",
       "      <th>...</th>\n",
       "      <td>...</td>\n",
       "      <td>...</td>\n",
       "      <td>...</td>\n",
       "      <td>...</td>\n",
       "      <td>...</td>\n",
       "      <td>...</td>\n",
       "    </tr>\n",
       "    <tr>\n",
       "      <th>15701</th>\n",
       "      <td>흥아해운(주)</td>\n",
       "      <td>3280</td>\n",
       "      <td>2006/12</td>\n",
       "      <td>-2655684.0</td>\n",
       "      <td>-290315.0</td>\n",
       "      <td>643616434.0</td>\n",
       "    </tr>\n",
       "    <tr>\n",
       "      <th>15702</th>\n",
       "      <td>흥아해운(주)</td>\n",
       "      <td>3280</td>\n",
       "      <td>2007/12</td>\n",
       "      <td>10492202.0</td>\n",
       "      <td>-3587607.0</td>\n",
       "      <td>665589779.0</td>\n",
       "    </tr>\n",
       "    <tr>\n",
       "      <th>15703</th>\n",
       "      <td>흥아해운(주)</td>\n",
       "      <td>3280</td>\n",
       "      <td>2008/12</td>\n",
       "      <td>11948162.0</td>\n",
       "      <td>770845.0</td>\n",
       "      <td>850131061.0</td>\n",
       "    </tr>\n",
       "    <tr>\n",
       "      <th>15704</th>\n",
       "      <td>흥아해운(주)</td>\n",
       "      <td>3280</td>\n",
       "      <td>2009/12</td>\n",
       "      <td>-5586486.0</td>\n",
       "      <td>-17040555.0</td>\n",
       "      <td>671257274.0</td>\n",
       "    </tr>\n",
       "    <tr>\n",
       "      <th>15705</th>\n",
       "      <td>흥아해운(주)</td>\n",
       "      <td>3280</td>\n",
       "      <td>2010/12</td>\n",
       "      <td>37498427.0</td>\n",
       "      <td>13045727.0</td>\n",
       "      <td>829650278.0</td>\n",
       "    </tr>\n",
       "  </tbody>\n",
       "</table>\n",
       "<p>15706 rows × 6 columns</p>\n",
       "</div>"
      ],
      "text/plain": [
       "            회사명  거래소코드     회계년도        영업이익       당기순이익          매출액\n",
       "0      (주)CMG제약  58820  2001/12    294030.0    110431.0   15822816.0\n",
       "1      (주)CMG제약  58820  2002/12  -3817019.0  -2254749.0   26394126.0\n",
       "2      (주)CMG제약  58820  2003/12   -914055.0    110249.0   17389284.0\n",
       "3      (주)CMG제약  58820  2004/12  -2838322.0  -3873234.0   13083977.0\n",
       "4      (주)CMG제약  58820  2005/12  -1994985.0  -2558027.0    4186236.0\n",
       "...         ...    ...      ...         ...         ...          ...\n",
       "15701   흥아해운(주)   3280  2006/12  -2655684.0   -290315.0  643616434.0\n",
       "15702   흥아해운(주)   3280  2007/12  10492202.0  -3587607.0  665589779.0\n",
       "15703   흥아해운(주)   3280  2008/12  11948162.0    770845.0  850131061.0\n",
       "15704   흥아해운(주)   3280  2009/12  -5586486.0 -17040555.0  671257274.0\n",
       "15705   흥아해운(주)   3280  2010/12  37498427.0  13045727.0  829650278.0\n",
       "\n",
       "[15706 rows x 6 columns]"
      ]
     },
     "execution_count": 330,
     "metadata": {},
     "output_type": "execute_result"
    }
   ],
   "source": [
    "# K-GAAP_연결기업 데이터프레임의 결측치를 개별기업 데이터로 대체\n",
    "for i in kgaap_con_list:\n",
    "    kgaap_con[i] = kgaap_con[i].fillna(kgaap_sep[i])\n",
    "kgaap_con"
   ]
  },
  {
   "cell_type": "code",
   "execution_count": 331,
   "metadata": {},
   "outputs": [],
   "source": [
    "# 데이터 프레임 저장\n",
    "kgaap_con.to_csv('데이터/1차 전처리/K-GAAP_성장률_별도병합.csv', encoding='CP949')"
   ]
  },
  {
   "cell_type": "code",
   "execution_count": 332,
   "metadata": {},
   "outputs": [
    {
     "data": {
      "text/plain": [
       "회사명       0\n",
       "거래소코드     0\n",
       "회계년도      0\n",
       "영업이익     36\n",
       "당기순이익    36\n",
       "매출액      36\n",
       "dtype: int64"
      ]
     },
     "execution_count": 332,
     "metadata": {},
     "output_type": "execute_result"
    }
   ],
   "source": [
    "# 데이터 프레임 결측치 합 확인\n",
    "kgaap_con.isna().sum()"
   ]
  },
  {
   "cell_type": "markdown",
   "metadata": {},
   "source": [
    "--------"
   ]
  },
  {
   "cell_type": "markdown",
   "metadata": {},
   "source": [
    "### 연결기업 - 별도기업 병합(자산, 자본)"
   ]
  },
  {
   "cell_type": "code",
   "execution_count": 399,
   "metadata": {},
   "outputs": [],
   "source": [
    "# 데이터 불러오기\n",
    "AC_con = pd.read_csv('데이터/data/자산자본_연결.csv', encoding='CP949')\n",
    "AC_sep = pd.read_csv('데이터/data/자산자본_별도.csv', encoding='CP949')\n",
    "\n",
    "# 모든 컬럼, 로우 출력/요약 출력\n",
    "pd.set_option('display.max_columns', None)\n",
    "pd.reset_option('display.max_rows', None)"
   ]
  },
  {
   "cell_type": "code",
   "execution_count": 402,
   "metadata": {},
   "outputs": [
    {
     "data": {
      "text/plain": [
       "(20929, 5)"
      ]
     },
     "execution_count": 402,
     "metadata": {},
     "output_type": "execute_result"
    }
   ],
   "source": [
    "# 데이터 프레임 행렬 수 출력\n",
    "AC_con.shape\n",
    "## (20929, 5)\n",
    "\n",
    "AC_sep.shape\n",
    "## (20929, 5)"
   ]
  },
  {
   "cell_type": "code",
   "execution_count": 404,
   "metadata": {},
   "outputs": [
    {
     "data": {
      "text/plain": [
       "2454"
      ]
     },
     "execution_count": 404,
     "metadata": {},
     "output_type": "execute_result"
    }
   ],
   "source": [
    "# 회사 수\n",
    "AC_con['회사명'].nunique()\n",
    "## 2454\n",
    "\n",
    "AC_sep['회사명'].nunique()\n",
    "## 2454"
   ]
  },
  {
   "cell_type": "code",
   "execution_count": 405,
   "metadata": {},
   "outputs": [
    {
     "data": {
      "text/plain": [
       "회사명                 0\n",
       "거래소코드               0\n",
       "회계년도                0\n",
       "자산(*)(IFRS연결)    6310\n",
       "자본(*)(IFRS연결)    6310\n",
       "dtype: int64"
      ]
     },
     "execution_count": 405,
     "metadata": {},
     "output_type": "execute_result"
    }
   ],
   "source": [
    "# 데이터 프레임 결측치 합 확인\n",
    "AC_con.isna().sum()"
   ]
  },
  {
   "cell_type": "code",
   "execution_count": 406,
   "metadata": {},
   "outputs": [
    {
     "data": {
      "text/plain": [
       "회사명               0\n",
       "거래소코드             0\n",
       "회계년도              0\n",
       "자산(*)(IFRS)    1814\n",
       "자본(*)(IFRS)    1814\n",
       "dtype: int64"
      ]
     },
     "execution_count": 406,
     "metadata": {},
     "output_type": "execute_result"
    }
   ],
   "source": [
    "AC_sep.isna().sum()"
   ]
  },
  {
   "cell_type": "code",
   "execution_count": 407,
   "metadata": {},
   "outputs": [
    {
     "data": {
      "text/plain": [
       "Index(['회사명', '거래소코드', '회계년도', '자산(*)(IFRS연결)', '자본(*)(IFRS연결)'], dtype='object')"
      ]
     },
     "execution_count": 407,
     "metadata": {},
     "output_type": "execute_result"
    }
   ],
   "source": [
    "# 컬럼명 확인\n",
    "AC_con.columns"
   ]
  },
  {
   "cell_type": "code",
   "execution_count": 408,
   "metadata": {},
   "outputs": [
    {
     "name": "stderr",
     "output_type": "stream",
     "text": [
      "<ipython-input-408-04d226cfdbd5>:3: FutureWarning: The default value of regex will change from True to False in a future version. In addition, single character regular expressions will*not* be treated as literal strings when regex=True.\n",
      "  AC_con.columns = AC_con.columns.str.replace('(', '')\n",
      "<ipython-input-408-04d226cfdbd5>:4: FutureWarning: The default value of regex will change from True to False in a future version. In addition, single character regular expressions will*not* be treated as literal strings when regex=True.\n",
      "  AC_con.columns = AC_con.columns.str.replace(')', '')\n",
      "<ipython-input-408-04d226cfdbd5>:6: FutureWarning: The default value of regex will change from True to False in a future version. In addition, single character regular expressions will*not* be treated as literal strings when regex=True.\n",
      "  AC_con.columns = AC_con.columns.str.replace('*', '')\n"
     ]
    },
    {
     "data": {
      "text/plain": [
       "Index(['회사명', '거래소코드', '회계년도', '자산', '자본'], dtype='object')"
      ]
     },
     "execution_count": 408,
     "metadata": {},
     "output_type": "execute_result"
    }
   ],
   "source": [
    "# 컬럼명 불필요 문자 제거\n",
    "AC_con.columns = AC_con.columns.str.replace('IFRS', '')\n",
    "AC_con.columns = AC_con.columns.str.replace('(', '')\n",
    "AC_con.columns = AC_con.columns.str.replace(')', '')\n",
    "AC_con.columns = AC_con.columns.str.replace('영업수익', '')\n",
    "AC_con.columns = AC_con.columns.str.replace('*', '')\n",
    "AC_con.columns = AC_con.columns.str.replace('연결', '')\n",
    "AC_con.columns"
   ]
  },
  {
   "cell_type": "code",
   "execution_count": 409,
   "metadata": {},
   "outputs": [
    {
     "data": {
      "text/plain": [
       "Index(['회사명', '거래소코드', '회계년도', '자산(*)(IFRS)', '자본(*)(IFRS)'], dtype='object')"
      ]
     },
     "execution_count": 409,
     "metadata": {},
     "output_type": "execute_result"
    }
   ],
   "source": [
    "AC_sep.columns"
   ]
  },
  {
   "cell_type": "code",
   "execution_count": 410,
   "metadata": {},
   "outputs": [
    {
     "name": "stderr",
     "output_type": "stream",
     "text": [
      "<ipython-input-410-ff08e0d0b970>:2: FutureWarning: The default value of regex will change from True to False in a future version. In addition, single character regular expressions will*not* be treated as literal strings when regex=True.\n",
      "  AC_sep.columns = AC_sep.columns.str.replace('(', '')\n",
      "<ipython-input-410-ff08e0d0b970>:3: FutureWarning: The default value of regex will change from True to False in a future version. In addition, single character regular expressions will*not* be treated as literal strings when regex=True.\n",
      "  AC_sep.columns = AC_sep.columns.str.replace(')', '')\n",
      "<ipython-input-410-ff08e0d0b970>:5: FutureWarning: The default value of regex will change from True to False in a future version. In addition, single character regular expressions will*not* be treated as literal strings when regex=True.\n",
      "  AC_sep.columns = AC_sep.columns.str.replace('*', '')\n"
     ]
    },
    {
     "data": {
      "text/plain": [
       "Index(['회사명', '거래소코드', '회계년도', '자산', '자본'], dtype='object')"
      ]
     },
     "execution_count": 410,
     "metadata": {},
     "output_type": "execute_result"
    }
   ],
   "source": [
    "AC_sep.columns = AC_sep.columns.str.replace('IFRS', '')\n",
    "AC_sep.columns = AC_sep.columns.str.replace('(', '')\n",
    "AC_sep.columns = AC_sep.columns.str.replace(')', '')\n",
    "AC_sep.columns = AC_sep.columns.str.replace('영업수익', '')\n",
    "AC_sep.columns = AC_sep.columns.str.replace('*', '')\n",
    "AC_sep.columns = AC_sep.columns.str.replace('연결', '')\n",
    "AC_sep.columns"
   ]
  },
  {
   "cell_type": "code",
   "execution_count": 411,
   "metadata": {},
   "outputs": [
    {
     "name": "stdout",
     "output_type": "stream",
     "text": [
      "['회사명', '거래소코드', '회계년도', '자산', '자본']\n"
     ]
    }
   ],
   "source": [
    "# 자산자본_연결 데이터프레임의 컬럼명을 리스트로 저장\n",
    "AC_con_list = AC_con.columns.tolist()\n",
    "print(AC_con_list)"
   ]
  },
  {
   "cell_type": "code",
   "execution_count": 412,
   "metadata": {},
   "outputs": [
    {
     "data": {
      "text/html": [
       "<div>\n",
       "<style scoped>\n",
       "    .dataframe tbody tr th:only-of-type {\n",
       "        vertical-align: middle;\n",
       "    }\n",
       "\n",
       "    .dataframe tbody tr th {\n",
       "        vertical-align: top;\n",
       "    }\n",
       "\n",
       "    .dataframe thead th {\n",
       "        text-align: right;\n",
       "    }\n",
       "</style>\n",
       "<table border=\"1\" class=\"dataframe\">\n",
       "  <thead>\n",
       "    <tr style=\"text-align: right;\">\n",
       "      <th></th>\n",
       "      <th>회사명</th>\n",
       "      <th>거래소코드</th>\n",
       "      <th>회계년도</th>\n",
       "      <th>자산</th>\n",
       "      <th>자본</th>\n",
       "    </tr>\n",
       "  </thead>\n",
       "  <tbody>\n",
       "    <tr>\n",
       "      <th>0</th>\n",
       "      <td>(주)CMG제약</td>\n",
       "      <td>58820</td>\n",
       "      <td>2011/12</td>\n",
       "      <td>27305198.0</td>\n",
       "      <td>18034249.0</td>\n",
       "    </tr>\n",
       "    <tr>\n",
       "      <th>1</th>\n",
       "      <td>(주)CMG제약</td>\n",
       "      <td>58820</td>\n",
       "      <td>2012/12</td>\n",
       "      <td>57108035.0</td>\n",
       "      <td>31590685.0</td>\n",
       "    </tr>\n",
       "    <tr>\n",
       "      <th>2</th>\n",
       "      <td>(주)CMG제약</td>\n",
       "      <td>58820</td>\n",
       "      <td>2013/12</td>\n",
       "      <td>55912563.0</td>\n",
       "      <td>48997281.0</td>\n",
       "    </tr>\n",
       "    <tr>\n",
       "      <th>3</th>\n",
       "      <td>(주)CMG제약</td>\n",
       "      <td>58820</td>\n",
       "      <td>2014/12</td>\n",
       "      <td>58068326.0</td>\n",
       "      <td>49002644.0</td>\n",
       "    </tr>\n",
       "    <tr>\n",
       "      <th>4</th>\n",
       "      <td>(주)CMG제약</td>\n",
       "      <td>58820</td>\n",
       "      <td>2015/12</td>\n",
       "      <td>56532821.0</td>\n",
       "      <td>46806888.0</td>\n",
       "    </tr>\n",
       "    <tr>\n",
       "      <th>...</th>\n",
       "      <td>...</td>\n",
       "      <td>...</td>\n",
       "      <td>...</td>\n",
       "      <td>...</td>\n",
       "      <td>...</td>\n",
       "    </tr>\n",
       "    <tr>\n",
       "      <th>20924</th>\n",
       "      <td>흥아해운(주)</td>\n",
       "      <td>3280</td>\n",
       "      <td>2016/12</td>\n",
       "      <td>958532259.0</td>\n",
       "      <td>192487245.0</td>\n",
       "    </tr>\n",
       "    <tr>\n",
       "      <th>20925</th>\n",
       "      <td>흥아해운(주)</td>\n",
       "      <td>3280</td>\n",
       "      <td>2017/12</td>\n",
       "      <td>848958520.0</td>\n",
       "      <td>116884496.0</td>\n",
       "    </tr>\n",
       "    <tr>\n",
       "      <th>20926</th>\n",
       "      <td>흥아해운(주)</td>\n",
       "      <td>3280</td>\n",
       "      <td>2018/12</td>\n",
       "      <td>803698457.0</td>\n",
       "      <td>73148175.0</td>\n",
       "    </tr>\n",
       "    <tr>\n",
       "      <th>20927</th>\n",
       "      <td>흥아해운(주)</td>\n",
       "      <td>3280</td>\n",
       "      <td>2019/12</td>\n",
       "      <td>430962722.0</td>\n",
       "      <td>30919383.0</td>\n",
       "    </tr>\n",
       "    <tr>\n",
       "      <th>20928</th>\n",
       "      <td>흥아해운(주)</td>\n",
       "      <td>3280</td>\n",
       "      <td>2020/12</td>\n",
       "      <td>286775958.0</td>\n",
       "      <td>-26283865.0</td>\n",
       "    </tr>\n",
       "  </tbody>\n",
       "</table>\n",
       "<p>20929 rows × 5 columns</p>\n",
       "</div>"
      ],
      "text/plain": [
       "            회사명  거래소코드     회계년도           자산           자본\n",
       "0      (주)CMG제약  58820  2011/12   27305198.0   18034249.0\n",
       "1      (주)CMG제약  58820  2012/12   57108035.0   31590685.0\n",
       "2      (주)CMG제약  58820  2013/12   55912563.0   48997281.0\n",
       "3      (주)CMG제약  58820  2014/12   58068326.0   49002644.0\n",
       "4      (주)CMG제약  58820  2015/12   56532821.0   46806888.0\n",
       "...         ...    ...      ...          ...          ...\n",
       "20924   흥아해운(주)   3280  2016/12  958532259.0  192487245.0\n",
       "20925   흥아해운(주)   3280  2017/12  848958520.0  116884496.0\n",
       "20926   흥아해운(주)   3280  2018/12  803698457.0   73148175.0\n",
       "20927   흥아해운(주)   3280  2019/12  430962722.0   30919383.0\n",
       "20928   흥아해운(주)   3280  2020/12  286775958.0  -26283865.0\n",
       "\n",
       "[20929 rows x 5 columns]"
      ]
     },
     "execution_count": 412,
     "metadata": {},
     "output_type": "execute_result"
    }
   ],
   "source": [
    "# 연결기업 데이터프레임의 결측치를 개별기업 데이터로 대체\n",
    "for i in AC_con_list:\n",
    "    AC_con[i] = AC_con[i].fillna(AC_sep[i])\n",
    "AC_con"
   ]
  },
  {
   "cell_type": "code",
   "execution_count": 413,
   "metadata": {},
   "outputs": [],
   "source": [
    "# 데이터 프레임 저장\n",
    "AC_con.to_csv('데이터/1차 전처리/자산자본_별도병합.csv', encoding='CP949')"
   ]
  },
  {
   "cell_type": "code",
   "execution_count": 414,
   "metadata": {},
   "outputs": [
    {
     "data": {
      "text/plain": [
       "회사명         0\n",
       "거래소코드       0\n",
       "회계년도        0\n",
       "자산       1696\n",
       "자본       1696\n",
       "dtype: int64"
      ]
     },
     "execution_count": 414,
     "metadata": {},
     "output_type": "execute_result"
    }
   ],
   "source": [
    "# 데이터 프레임 결측치 합 확인\n",
    "AC_con.isna().sum()"
   ]
  },
  {
   "cell_type": "markdown",
   "metadata": {},
   "source": [
    "----"
   ]
  },
  {
   "cell_type": "markdown",
   "metadata": {},
   "source": [
    "### 총자산증가율, 자기자본증가율 파생변수 구하기"
   ]
  },
  {
   "cell_type": "code",
   "execution_count": 415,
   "metadata": {},
   "outputs": [],
   "source": [
    "AC_con2 = AC_con.copy()\n",
    "AC_con2 = AC_con2.dropna(axis=0)"
   ]
  },
  {
   "cell_type": "code",
   "execution_count": 416,
   "metadata": {},
   "outputs": [
    {
     "data": {
      "text/plain": [
       "2390"
      ]
     },
     "execution_count": 416,
     "metadata": {},
     "output_type": "execute_result"
    }
   ],
   "source": [
    "AC_con2['회사명'].nunique()"
   ]
  },
  {
   "cell_type": "code",
   "execution_count": 417,
   "metadata": {},
   "outputs": [],
   "source": [
    "AC_con2['전기자산'] = AC_con2['자산'].shift().where(AC_con2.회사명.eq(AC_con2.회사명.shift()))\n",
    "AC_con2['전기자본'] = AC_con2['자본'].shift().where(AC_con2.회사명.eq(AC_con2.회사명.shift()))\n",
    "# AC_con2"
   ]
  },
  {
   "cell_type": "code",
   "execution_count": 418,
   "metadata": {},
   "outputs": [],
   "source": [
    "AC_con2['총자산증가율'] = ((AC_con2['자산'] - AC_con2['전기자산'])/AC_con2['전기자산'])*100\n",
    "AC_con2['자기자본증가율'] = ((AC_con2['자본'] - AC_con2['전기자본'])/abs(AC_con2['전기자본']))*100\n",
    "# AC_con2"
   ]
  },
  {
   "cell_type": "code",
   "execution_count": 419,
   "metadata": {},
   "outputs": [
    {
     "data": {
      "text/plain": [
       "Index(['회사명', '거래소코드', '회계년도', '자산', '자본', '전기자산', '전기자본', '총자산증가율',\n",
       "       '자기자본증가율'],\n",
       "      dtype='object')"
      ]
     },
     "execution_count": 419,
     "metadata": {},
     "output_type": "execute_result"
    }
   ],
   "source": [
    "AC_con2.columns"
   ]
  },
  {
   "cell_type": "code",
   "execution_count": 420,
   "metadata": {},
   "outputs": [],
   "source": [
    "# 컬럼명 재정렬\n",
    "AC_con2 = AC_con2[['회사명', '거래소코드', '회계년도', '자산', '전기자산', '총자산증가율', '자본', '전기자본', '자기자본증가율']]\n",
    "# AC_con2"
   ]
  },
  {
   "cell_type": "code",
   "execution_count": 421,
   "metadata": {},
   "outputs": [
    {
     "data": {
      "text/html": [
       "<div>\n",
       "<style scoped>\n",
       "    .dataframe tbody tr th:only-of-type {\n",
       "        vertical-align: middle;\n",
       "    }\n",
       "\n",
       "    .dataframe tbody tr th {\n",
       "        vertical-align: top;\n",
       "    }\n",
       "\n",
       "    .dataframe thead th {\n",
       "        text-align: right;\n",
       "    }\n",
       "</style>\n",
       "<table border=\"1\" class=\"dataframe\">\n",
       "  <thead>\n",
       "    <tr style=\"text-align: right;\">\n",
       "      <th></th>\n",
       "      <th>회사명</th>\n",
       "      <th>거래소코드</th>\n",
       "      <th>회계년도</th>\n",
       "      <th>자산</th>\n",
       "      <th>전기자산</th>\n",
       "      <th>총자산증가율</th>\n",
       "      <th>자본</th>\n",
       "      <th>전기자본</th>\n",
       "      <th>자기자본증가율</th>\n",
       "    </tr>\n",
       "  </thead>\n",
       "  <tbody>\n",
       "    <tr>\n",
       "      <th>0</th>\n",
       "      <td>(주)CMG제약</td>\n",
       "      <td>58820</td>\n",
       "      <td>2011/12</td>\n",
       "      <td>27305198.0</td>\n",
       "      <td>NaN</td>\n",
       "      <td>NaN</td>\n",
       "      <td>18034249.0</td>\n",
       "      <td>NaN</td>\n",
       "      <td>NaN</td>\n",
       "    </tr>\n",
       "    <tr>\n",
       "      <th>1</th>\n",
       "      <td>(주)CMG제약</td>\n",
       "      <td>58820</td>\n",
       "      <td>2012/12</td>\n",
       "      <td>57108035.0</td>\n",
       "      <td>27305198.0</td>\n",
       "      <td>109.147119</td>\n",
       "      <td>31590685.0</td>\n",
       "      <td>18034249.0</td>\n",
       "      <td>75.170505</td>\n",
       "    </tr>\n",
       "    <tr>\n",
       "      <th>2</th>\n",
       "      <td>(주)CMG제약</td>\n",
       "      <td>58820</td>\n",
       "      <td>2013/12</td>\n",
       "      <td>55912563.0</td>\n",
       "      <td>57108035.0</td>\n",
       "      <td>-2.093352</td>\n",
       "      <td>48997281.0</td>\n",
       "      <td>31590685.0</td>\n",
       "      <td>55.100407</td>\n",
       "    </tr>\n",
       "    <tr>\n",
       "      <th>3</th>\n",
       "      <td>(주)CMG제약</td>\n",
       "      <td>58820</td>\n",
       "      <td>2014/12</td>\n",
       "      <td>58068326.0</td>\n",
       "      <td>55912563.0</td>\n",
       "      <td>3.855597</td>\n",
       "      <td>49002644.0</td>\n",
       "      <td>48997281.0</td>\n",
       "      <td>0.010946</td>\n",
       "    </tr>\n",
       "    <tr>\n",
       "      <th>4</th>\n",
       "      <td>(주)CMG제약</td>\n",
       "      <td>58820</td>\n",
       "      <td>2015/12</td>\n",
       "      <td>56532821.0</td>\n",
       "      <td>58068326.0</td>\n",
       "      <td>-2.644307</td>\n",
       "      <td>46806888.0</td>\n",
       "      <td>49002644.0</td>\n",
       "      <td>-4.480893</td>\n",
       "    </tr>\n",
       "    <tr>\n",
       "      <th>...</th>\n",
       "      <td>...</td>\n",
       "      <td>...</td>\n",
       "      <td>...</td>\n",
       "      <td>...</td>\n",
       "      <td>...</td>\n",
       "      <td>...</td>\n",
       "      <td>...</td>\n",
       "      <td>...</td>\n",
       "      <td>...</td>\n",
       "    </tr>\n",
       "    <tr>\n",
       "      <th>20924</th>\n",
       "      <td>흥아해운(주)</td>\n",
       "      <td>3280</td>\n",
       "      <td>2016/12</td>\n",
       "      <td>958532259.0</td>\n",
       "      <td>791640802.0</td>\n",
       "      <td>21.081715</td>\n",
       "      <td>192487245.0</td>\n",
       "      <td>173076634.0</td>\n",
       "      <td>11.215038</td>\n",
       "    </tr>\n",
       "    <tr>\n",
       "      <th>20925</th>\n",
       "      <td>흥아해운(주)</td>\n",
       "      <td>3280</td>\n",
       "      <td>2017/12</td>\n",
       "      <td>848958520.0</td>\n",
       "      <td>958532259.0</td>\n",
       "      <td>-11.431409</td>\n",
       "      <td>116884496.0</td>\n",
       "      <td>192487245.0</td>\n",
       "      <td>-39.276758</td>\n",
       "    </tr>\n",
       "    <tr>\n",
       "      <th>20926</th>\n",
       "      <td>흥아해운(주)</td>\n",
       "      <td>3280</td>\n",
       "      <td>2018/12</td>\n",
       "      <td>803698457.0</td>\n",
       "      <td>848958520.0</td>\n",
       "      <td>-5.331246</td>\n",
       "      <td>73148175.0</td>\n",
       "      <td>116884496.0</td>\n",
       "      <td>-37.418411</td>\n",
       "    </tr>\n",
       "    <tr>\n",
       "      <th>20927</th>\n",
       "      <td>흥아해운(주)</td>\n",
       "      <td>3280</td>\n",
       "      <td>2019/12</td>\n",
       "      <td>430962722.0</td>\n",
       "      <td>803698457.0</td>\n",
       "      <td>-46.377560</td>\n",
       "      <td>30919383.0</td>\n",
       "      <td>73148175.0</td>\n",
       "      <td>-57.730479</td>\n",
       "    </tr>\n",
       "    <tr>\n",
       "      <th>20928</th>\n",
       "      <td>흥아해운(주)</td>\n",
       "      <td>3280</td>\n",
       "      <td>2020/12</td>\n",
       "      <td>286775958.0</td>\n",
       "      <td>430962722.0</td>\n",
       "      <td>-33.456899</td>\n",
       "      <td>-26283865.0</td>\n",
       "      <td>30919383.0</td>\n",
       "      <td>-185.007728</td>\n",
       "    </tr>\n",
       "  </tbody>\n",
       "</table>\n",
       "<p>19233 rows × 9 columns</p>\n",
       "</div>"
      ],
      "text/plain": [
       "            회사명  거래소코드     회계년도           자산         전기자산      총자산증가율  \\\n",
       "0      (주)CMG제약  58820  2011/12   27305198.0          NaN         NaN   \n",
       "1      (주)CMG제약  58820  2012/12   57108035.0   27305198.0  109.147119   \n",
       "2      (주)CMG제약  58820  2013/12   55912563.0   57108035.0   -2.093352   \n",
       "3      (주)CMG제약  58820  2014/12   58068326.0   55912563.0    3.855597   \n",
       "4      (주)CMG제약  58820  2015/12   56532821.0   58068326.0   -2.644307   \n",
       "...         ...    ...      ...          ...          ...         ...   \n",
       "20924   흥아해운(주)   3280  2016/12  958532259.0  791640802.0   21.081715   \n",
       "20925   흥아해운(주)   3280  2017/12  848958520.0  958532259.0  -11.431409   \n",
       "20926   흥아해운(주)   3280  2018/12  803698457.0  848958520.0   -5.331246   \n",
       "20927   흥아해운(주)   3280  2019/12  430962722.0  803698457.0  -46.377560   \n",
       "20928   흥아해운(주)   3280  2020/12  286775958.0  430962722.0  -33.456899   \n",
       "\n",
       "                자본         전기자본     자기자본증가율  \n",
       "0       18034249.0          NaN         NaN  \n",
       "1       31590685.0   18034249.0   75.170505  \n",
       "2       48997281.0   31590685.0   55.100407  \n",
       "3       49002644.0   48997281.0    0.010946  \n",
       "4       46806888.0   49002644.0   -4.480893  \n",
       "...            ...          ...         ...  \n",
       "20924  192487245.0  173076634.0   11.215038  \n",
       "20925  116884496.0  192487245.0  -39.276758  \n",
       "20926   73148175.0  116884496.0  -37.418411  \n",
       "20927   30919383.0   73148175.0  -57.730479  \n",
       "20928  -26283865.0   30919383.0 -185.007728  \n",
       "\n",
       "[19233 rows x 9 columns]"
      ]
     },
     "execution_count": 421,
     "metadata": {},
     "output_type": "execute_result"
    }
   ],
   "source": [
    "AC_con2"
   ]
  },
  {
   "cell_type": "code",
   "execution_count": 422,
   "metadata": {},
   "outputs": [
    {
     "data": {
      "text/plain": [
       "회사명           0\n",
       "거래소코드         0\n",
       "회계년도          0\n",
       "자산            0\n",
       "전기자산       2390\n",
       "총자산증가율     2390\n",
       "자본            0\n",
       "전기자본       2390\n",
       "자기자본증가율    2390\n",
       "dtype: int64"
      ]
     },
     "execution_count": 422,
     "metadata": {},
     "output_type": "execute_result"
    }
   ],
   "source": [
    "# 데이터 프레임 결측치 합 확인 -> 기업 수 만큼 결측시 생김(shift후 생긴 공백)\n",
    "AC_con2.isna().sum()"
   ]
  },
  {
   "cell_type": "code",
   "execution_count": 423,
   "metadata": {},
   "outputs": [],
   "source": [
    "AC_con2 = AC_con2.dropna(axis=0)"
   ]
  },
  {
   "cell_type": "code",
   "execution_count": 424,
   "metadata": {},
   "outputs": [],
   "source": [
    "# 데이터 프레임 저장\n",
    "AC_con2.to_csv('데이터/1차 전처리/총자산_자기자본증가율.csv', encoding='CP949')"
   ]
  },
  {
   "cell_type": "markdown",
   "metadata": {},
   "source": [
    "-----"
   ]
  },
  {
   "cell_type": "code",
   "execution_count": 425,
   "metadata": {},
   "outputs": [],
   "source": [
    "# 데이터 불러오기\n",
    "emp = pd.read_csv('데이터/data/종업원수증가율.csv', encoding='CP949')\n",
    "\n",
    "# 모든 컬럼, 로우 출력/요약 출력\n",
    "pd.set_option('display.max_columns', None)\n",
    "pd.reset_option('display.max_rows', None)"
   ]
  },
  {
   "cell_type": "code",
   "execution_count": 427,
   "metadata": {},
   "outputs": [
    {
     "data": {
      "text/plain": [
       "(20929, 4)"
      ]
     },
     "execution_count": 427,
     "metadata": {},
     "output_type": "execute_result"
    }
   ],
   "source": [
    "# 데이터 프레임 행렬 수 출력\n",
    "emp.shape"
   ]
  },
  {
   "cell_type": "code",
   "execution_count": 429,
   "metadata": {},
   "outputs": [
    {
     "data": {
      "text/plain": [
       "2454"
      ]
     },
     "execution_count": 429,
     "metadata": {},
     "output_type": "execute_result"
    }
   ],
   "source": [
    "# 회사 수\n",
    "emp['회사명'].nunique()"
   ]
  },
  {
   "cell_type": "code",
   "execution_count": 430,
   "metadata": {},
   "outputs": [
    {
     "data": {
      "text/plain": [
       "회사명                 0\n",
       "거래소코드               0\n",
       "회계년도                0\n",
       "종업원수증가율(IFRS)    2058\n",
       "dtype: int64"
      ]
     },
     "execution_count": 430,
     "metadata": {},
     "output_type": "execute_result"
    }
   ],
   "source": [
    "# 데이터 프레임 결측치 합 확인\n",
    "emp.isna().sum()"
   ]
  },
  {
   "cell_type": "code",
   "execution_count": 432,
   "metadata": {},
   "outputs": [
    {
     "data": {
      "text/plain": [
       "Index(['회사명', '거래소코드', '회계년도', '종업원수증가율(IFRS)'], dtype='object')"
      ]
     },
     "execution_count": 432,
     "metadata": {},
     "output_type": "execute_result"
    }
   ],
   "source": [
    "# 컬럼명 확인\n",
    "emp.columns"
   ]
  },
  {
   "cell_type": "code",
   "execution_count": 433,
   "metadata": {},
   "outputs": [
    {
     "name": "stderr",
     "output_type": "stream",
     "text": [
      "<ipython-input-433-8f9774c4687e>:3: FutureWarning: The default value of regex will change from True to False in a future version. In addition, single character regular expressions will*not* be treated as literal strings when regex=True.\n",
      "  emp.columns = emp.columns.str.replace('(', '')\n",
      "<ipython-input-433-8f9774c4687e>:4: FutureWarning: The default value of regex will change from True to False in a future version. In addition, single character regular expressions will*not* be treated as literal strings when regex=True.\n",
      "  emp.columns = emp.columns.str.replace(')', '')\n"
     ]
    },
    {
     "data": {
      "text/plain": [
       "Index(['회사명', '거래소코드', '회계년도', '종업원수증가율'], dtype='object')"
      ]
     },
     "execution_count": 433,
     "metadata": {},
     "output_type": "execute_result"
    }
   ],
   "source": [
    "# 컬럼명 불필요 문자 제거\n",
    "emp.columns = emp.columns.str.replace('IFRS', '')\n",
    "emp.columns = emp.columns.str.replace('(', '')\n",
    "emp.columns = emp.columns.str.replace(')', '')\n",
    "emp.columns"
   ]
  },
  {
   "cell_type": "code",
   "execution_count": 435,
   "metadata": {},
   "outputs": [],
   "source": [
    "# 데이터 프레임 저장\n",
    "emp.to_csv('데이터/1차 전처리/종업원수증가율_전처리.csv', encoding='CP949')"
   ]
  },
  {
   "cell_type": "code",
   "execution_count": 436,
   "metadata": {},
   "outputs": [
    {
     "data": {
      "text/plain": [
       "회사명           0\n",
       "거래소코드         0\n",
       "회계년도          0\n",
       "종업원수증가율    2058\n",
       "dtype: int64"
      ]
     },
     "execution_count": 436,
     "metadata": {},
     "output_type": "execute_result"
    }
   ],
   "source": [
    "# 데이터 프레임 결측치 합 확인\n",
    "emp.isna().sum()"
   ]
  }
 ],
 "metadata": {
  "kernelspec": {
   "display_name": "Python 3.8.8 ('base')",
   "language": "python",
   "name": "python3"
  },
  "language_info": {
   "codemirror_mode": {
    "name": "ipython",
    "version": 3
   },
   "file_extension": ".py",
   "mimetype": "text/x-python",
   "name": "python",
   "nbconvert_exporter": "python",
   "pygments_lexer": "ipython3",
   "version": "3.8.8"
  },
  "orig_nbformat": 4,
  "vscode": {
   "interpreter": {
    "hash": "bb818233b7b178884264e8dd05094efd4a6668b508f3d13c74764f741e7879a4"
   }
  }
 },
 "nbformat": 4,
 "nbformat_minor": 2
}
