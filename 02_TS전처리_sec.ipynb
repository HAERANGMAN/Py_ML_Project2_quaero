{
 "cells": [
  {
   "cell_type": "code",
   "execution_count": 271,
   "metadata": {},
   "outputs": [],
   "source": [
    "import pandas as pd\n",
    "\n",
    "# 모든 컬럼, 로우 출력/요약 출력\n",
    "pd.set_option('display.max_columns', None)\n",
    "pd.reset_option('display.max_rows', None)"
   ]
  },
  {
   "cell_type": "markdown",
   "metadata": {},
   "source": [
    "### 총자산증가율, 자기자본증가율, 정상영업손익증가율, 순이익증가율, 매출액증가율 파생변수 만들기\n",
    "#### [K-IFRS] 연결데이터와 별도데이터 병합하기"
   ]
  },
  {
   "cell_type": "code",
   "execution_count": 272,
   "metadata": {},
   "outputs": [
    {
     "name": "stdout",
     "output_type": "stream",
     "text": [
      "<연결>\n",
      "행렬 수 :  (20947, 10)\n",
      "회사 수 :  2456\n",
      "\n",
      "<별도>\n",
      "행렬 수 :  (20947, 10)\n",
      "회사 수 :  2456\n"
     ]
    }
   ],
   "source": [
    "# 데이터 불러오기\n",
    "con = pd.read_csv('데이터/data/연결노션성장성.csv', encoding='CP949')\n",
    "sep = pd.read_csv('데이터/data/별도노션성장성.csv', encoding='CP949')\n",
    "\n",
    "\n",
    "# 연결, 병합 데이터 비교하고 확인\n",
    "print('<연결>')\n",
    "print('행렬 수 : ', con.shape)\n",
    "print('회사 수 : ', con['회사명'].nunique())\n",
    "\n",
    "print('\\n<별도>')\n",
    "print('행렬 수 : ', sep.shape)\n",
    "print('회사 수 : ', sep['회사명'].nunique())"
   ]
  },
  {
   "cell_type": "code",
   "execution_count": 273,
   "metadata": {},
   "outputs": [],
   "source": [
    "# 데이터 프레임 결측치 합 확인\n",
    "# con.isna().sum()\n",
    "# sep.isna().sum()"
   ]
  },
  {
   "cell_type": "code",
   "execution_count": 274,
   "metadata": {},
   "outputs": [
    {
     "name": "stderr",
     "output_type": "stream",
     "text": [
      "<ipython-input-274-d9cd6727260b>:8: FutureWarning: The default value of regex will change from True to False in a future version. In addition, single character regular expressions will*not* be treated as literal strings when regex=True.\n",
      "  con.columns = con.columns.str.replace('(', '')\n",
      "<ipython-input-274-d9cd6727260b>:9: FutureWarning: The default value of regex will change from True to False in a future version. In addition, single character regular expressions will*not* be treated as literal strings when regex=True.\n",
      "  con.columns = con.columns.str.replace(')', '')\n",
      "<ipython-input-274-d9cd6727260b>:11: FutureWarning: The default value of regex will change from True to False in a future version. In addition, single character regular expressions will*not* be treated as literal strings when regex=True.\n",
      "  con.columns = con.columns.str.replace('*', '')\n",
      "<ipython-input-274-d9cd6727260b>:20: FutureWarning: The default value of regex will change from True to False in a future version. In addition, single character regular expressions will*not* be treated as literal strings when regex=True.\n",
      "  sep.columns = sep.columns.str.replace('(', '')\n",
      "<ipython-input-274-d9cd6727260b>:21: FutureWarning: The default value of regex will change from True to False in a future version. In addition, single character regular expressions will*not* be treated as literal strings when regex=True.\n",
      "  sep.columns = sep.columns.str.replace(')', '')\n",
      "<ipython-input-274-d9cd6727260b>:23: FutureWarning: The default value of regex will change from True to False in a future version. In addition, single character regular expressions will*not* be treated as literal strings when regex=True.\n",
      "  sep.columns = sep.columns.str.replace('*', '')\n"
     ]
    }
   ],
   "source": [
    "# 컬럼명 확인\n",
    "# con.columns\n",
    "# sep.columns\n",
    "\n",
    "\n",
    "# 컬럼명 불필요 문자 제거\n",
    "con.columns = con.columns.str.replace('수익', '')\n",
    "con.columns = con.columns.str.replace('(', '')\n",
    "con.columns = con.columns.str.replace(')', '')\n",
    "con.columns = con.columns.str.replace('IFRS연결', '')\n",
    "con.columns = con.columns.str.replace('*', '')\n",
    "con.columns = con.columns.str.replace('보고서기재', '')\n",
    "con.columns = con.columns.str.replace('손실', '')\n",
    "con.columns = con.columns.str.replace('정상', '')\n",
    "con.columns = con.columns.str.replace(' ', '')\n",
    "con.columns = con.columns.str.replace('천원', '')\n",
    "\n",
    "\n",
    "sep.columns = sep.columns.str.replace('수익', '')\n",
    "sep.columns = sep.columns.str.replace('(', '')\n",
    "sep.columns = sep.columns.str.replace(')', '')\n",
    "sep.columns = sep.columns.str.replace('IFRS', '')\n",
    "sep.columns = sep.columns.str.replace('*', '')\n",
    "sep.columns = sep.columns.str.replace('보고서기재', '')\n",
    "sep.columns = sep.columns.str.replace('손실', '')\n",
    "sep.columns = sep.columns.str.replace('정상', '')\n",
    "sep.columns = sep.columns.str.replace(' ', '')\n",
    "sep.columns = sep.columns.str.replace('천원', '')\n",
    "\n",
    "\n",
    "# 칼럼 재배치\n",
    "con = con[['회사명', '거래소코드', '회계년도', '상장일', '상장폐지일', '자산', '자본', '영업손익', '당기순이익', '매출액']]\n",
    "sep = sep[['회사명', '거래소코드', '회계년도', '상장일', '상장폐지일', '자산', '자본', '영업손익', '당기순이익', '매출액']]"
   ]
  },
  {
   "cell_type": "markdown",
   "metadata": {},
   "source": [
    "#### 연결기업 결측치를 개별기업 데이터로 대체"
   ]
  },
  {
   "cell_type": "code",
   "execution_count": 275,
   "metadata": {},
   "outputs": [],
   "source": [
    "consep = con.copy()\n",
    "\n",
    "# 연결기업 데이터프레임의 결측치를 개별기업 데이터로 대체\n",
    "for i in consep.columns:\n",
    "    consep[i] = consep[i].fillna(sep[i])\n",
    "\n",
    "\n",
    "# ts연결별도병합 데이터 프레임 저장\n",
    "consep.to_csv('데이터/1차 전처리/ifrs성장성연결별도병합.csv', encoding='CP949', index=False)"
   ]
  },
  {
   "cell_type": "code",
   "execution_count": 276,
   "metadata": {},
   "outputs": [
    {
     "name": "stdout",
     "output_type": "stream",
     "text": [
      "<연결>\n",
      "행렬 수 :  (20947, 10)\n",
      "회사 수 :  2456\n",
      "\n",
      "<별도>\n",
      "행렬 수 :  (20947, 10)\n",
      "회사 수 :  2456\n",
      "\n",
      "<병합>\n",
      "행렬 수 :  (20947, 10)\n",
      "회사 수 :  2456\n"
     ]
    }
   ],
   "source": [
    "# 연결, 별도, 병합 데이터 비교하고 확인\n",
    "print('<연결>')\n",
    "print('행렬 수 : ', con.shape)\n",
    "print('회사 수 : ', con['회사명'].nunique())\n",
    "\n",
    "print('\\n<별도>')\n",
    "print('행렬 수 : ', sep.shape)\n",
    "print('회사 수 : ', sep['회사명'].nunique())\n",
    "\n",
    "print('\\n<병합>')\n",
    "print('행렬 수 : ', consep.shape)\n",
    "print('회사 수 : ', consep['회사명'].nunique())"
   ]
  },
  {
   "cell_type": "markdown",
   "metadata": {},
   "source": [
    "#### 파생변수 만들기\n",
    "    컬럼 하나 새로 만들어서\n",
    "    포문 공식 : {(당기 - 전기) / 전기} * 100 값을 채워넣으려고 함\n",
    "    근데 만약 전기영업손익 < 0 면, 계산 => {(전기 - 당기) / 당기} * 100 로 채워넣을거임"
   ]
  },
  {
   "cell_type": "code",
   "execution_count": 277,
   "metadata": {},
   "outputs": [
    {
     "data": {
      "text/plain": [
       "Index(['회사명', '거래소코드', '회계년도', '상장일', '상장폐지일', '자산', '자본', '영업손익', '당기순이익',\n",
       "       '매출액'],\n",
       "      dtype='object')"
      ]
     },
     "execution_count": 277,
     "metadata": {},
     "output_type": "execute_result"
    }
   ],
   "source": [
    "consep.columns"
   ]
  },
  {
   "cell_type": "code",
   "execution_count": 278,
   "metadata": {},
   "outputs": [],
   "source": [
    "# 전기 데이터 만들기\n",
    "consep['전기영업손익'] = consep['영업손익'].shift().where(consep.회사명.eq(consep.회사명.shift()))\n",
    "consep['전기순이익'] = consep['당기순이익'].shift().where(consep.회사명.eq(consep.회사명.shift()))\n",
    "consep['전기매출액'] = consep['매출액'].shift().where(consep.회사명.eq(consep.회사명.shift()))\n",
    "consep['전기자산'] = consep['자산'].shift().where(consep.회사명.eq(consep.회사명.shift()))\n",
    "consep['전기자본'] = consep['자본'].shift().where(consep.회사명.eq(consep.회사명.shift()))\n",
    "\n",
    "consep2 = consep.copy()\n",
    "\n",
    "# 컬럼명 재정렬\n",
    "consep2 = consep2[['회사명', '거래소코드', '회계년도', '상장일', '상장폐지일', '자산', '전기자산', '자본', '전기자본', '영업손익', '전기영업손익', '당기순이익', '전기순이익', '매출액', '전기매출액']]\n",
    "\n",
    "\n",
    "# 성장성 재무비율 구하기\n",
    "consep2['총자산증가율'] = ((consep2['자산'] - consep2['전기자산'])/consep2['전기자산'])*100\n",
    "consep2['자기자본증가율'] = ((consep2['자본'] - consep2['전기자본'])/abs(consep2['전기자본']))*100\n",
    "for i, row in consep2.iterrows () :\n",
    "    if consep2.at[i,'전기영업손익'] > 0 or consep2.at[i,'전기영업손익'] < 0 and consep2.at[i,'영업손익'] < 0:\n",
    "        consep2.at[i,'정상영업손익증가율'] = ((consep2.at[i,'영업손익'] - consep2.at[i,'전기영업손익'])/consep2.at[i,'전기영업손익'])*100\n",
    "    elif consep2.at[i,'전기영업손익'] < 0 and consep2.at[i,'영업손익'] > 0:\n",
    "        consep2.at[i,'정상영업손익증가율'] = ((consep2.at[i,'전기영업손익'] - consep2.at[i,'영업손익'])/consep2.at[i,'영업손익'])*100\n",
    "\n",
    "for i, row in consep2.iterrows () :\n",
    "    if consep2.at[i,'전기순이익'] > 0 or consep2.at[i,'전기순이익'] < 0 and consep2.at[i,'당기순이익'] < 0:\n",
    "        consep2.at[i,'순이익증가율'] = ((consep2.at[i,'당기순이익'] - consep2.at[i,'전기순이익'])/consep2.at[i,'전기순이익'])*100\n",
    "    elif consep2.at[i,'전기순이익'] < 0 and consep2.at[i,'당기순이익'] > 0:\n",
    "        consep2.at[i,'순이익증가율'] = ((consep2.at[i,'전기순이익'] - consep2.at[i,'당기순이익'])/consep2.at[i,'당기순이익'])*100\n",
    "\n",
    "for i, row in consep2.iterrows () :\n",
    "    if consep2.at[i,'전기매출액'] > 0 or consep2.at[i,'전기매출액'] < 0 and consep2.at[i,'매출액'] < 0:\n",
    "        consep2.at[i,'매출액증가율'] = ((consep2.at[i,'매출액'] - consep2.at[i,'전기매출액'])/consep2.at[i,'전기매출액'])*100\n",
    "    elif consep2.at[i,'전기매출액'] < 0 and consep2.at[i,'매출액'] > 0:\n",
    "        consep2.at[i,'매출액증가율'] = ((consep2.at[i,'전기매출액'] - consep2.at[i,'매출액'])/consep2.at[i,'매출액'])*100\n",
    "\n",
    "\n",
    "# 데이터 프레임 저장\n",
    "consep2.to_csv('데이터/1차 전처리/ifrs성장성파생변수.csv', encoding='CP949', index=False)"
   ]
  },
  {
   "cell_type": "markdown",
   "metadata": {},
   "source": [
    "--------"
   ]
  },
  {
   "cell_type": "markdown",
   "metadata": {},
   "source": [
    "### 총자산증가율, 자기자본증가율, 정상영업손익증가율, 순이익증가율, 매출액증가율 파생변수 만들기\n",
    "#### [K-GAAP] 연결데이터와 별도데이터 병합하기"
   ]
  },
  {
   "cell_type": "code",
   "execution_count": 279,
   "metadata": {},
   "outputs": [
    {
     "name": "stdout",
     "output_type": "stream",
     "text": [
      "<연결>\n",
      "행렬 수 :  (20831, 10)\n",
      "회사 수 :  2388\n",
      "\n",
      "<별도>\n",
      "행렬 수 :  (20831, 10)\n",
      "회사 수 :  2388\n"
     ]
    }
   ],
   "source": [
    "# 데이터 불러오기\n",
    "kgcon = pd.read_csv('데이터/data/케이갭연결성장성.csv', encoding='CP949')\n",
    "kgsep = pd.read_csv('데이터/data/케이갭별도성장성.csv', encoding='CP949')\n",
    "\n",
    "# 연결, 병합 데이터 비교하고 확인\n",
    "print('<연결>')\n",
    "print('행렬 수 : ', kgcon.shape)\n",
    "print('회사 수 : ', kgcon['회사명'].nunique())\n",
    "\n",
    "print('\\n<별도>')\n",
    "print('행렬 수 : ', kgsep.shape)\n",
    "print('회사 수 : ', kgsep['회사명'].nunique())"
   ]
  },
  {
   "cell_type": "code",
   "execution_count": 280,
   "metadata": {},
   "outputs": [],
   "source": [
    "# 데이터 프레임 결측치 합 확인\n",
    "# kgcon.isna().sum()\n",
    "# kgsep.isna().sum()"
   ]
  },
  {
   "cell_type": "code",
   "execution_count": 281,
   "metadata": {},
   "outputs": [
    {
     "name": "stderr",
     "output_type": "stream",
     "text": [
      "<ipython-input-281-81a3aee03db5>:8: FutureWarning: The default value of regex will change from True to False in a future version. In addition, single character regular expressions will*not* be treated as literal strings when regex=True.\n",
      "  kgcon.columns = kgcon.columns.str.replace('(', '')\n",
      "<ipython-input-281-81a3aee03db5>:9: FutureWarning: The default value of regex will change from True to False in a future version. In addition, single character regular expressions will*not* be treated as literal strings when regex=True.\n",
      "  kgcon.columns = kgcon.columns.str.replace(')', '')\n",
      "<ipython-input-281-81a3aee03db5>:11: FutureWarning: The default value of regex will change from True to False in a future version. In addition, single character regular expressions will*not* be treated as literal strings when regex=True.\n",
      "  kgcon.columns = kgcon.columns.str.replace('*', '')\n",
      "<ipython-input-281-81a3aee03db5>:17: FutureWarning: The default value of regex will change from True to False in a future version. In addition, single character regular expressions will*not* be treated as literal strings when regex=True.\n",
      "  kgsep.columns = kgsep.columns.str.replace('(', '')\n",
      "<ipython-input-281-81a3aee03db5>:18: FutureWarning: The default value of regex will change from True to False in a future version. In addition, single character regular expressions will*not* be treated as literal strings when regex=True.\n",
      "  kgsep.columns = kgsep.columns.str.replace(')', '')\n",
      "<ipython-input-281-81a3aee03db5>:20: FutureWarning: The default value of regex will change from True to False in a future version. In addition, single character regular expressions will*not* be treated as literal strings when regex=True.\n",
      "  kgsep.columns = kgsep.columns.str.replace('*', '')\n"
     ]
    }
   ],
   "source": [
    "# 컬럼명 확인\n",
    "# kgcon.columns\n",
    "# kgsep.columns\n",
    "\n",
    "\n",
    "# 컬럼명 불필요 문자 제거\n",
    "kgcon.columns = kgcon.columns.str.replace('순손실', '')\n",
    "kgcon.columns = kgcon.columns.str.replace('(', '')\n",
    "kgcon.columns = kgcon.columns.str.replace(')', '')\n",
    "kgcon.columns = kgcon.columns.str.replace('영업수익', '')\n",
    "kgcon.columns = kgcon.columns.str.replace('*', '')\n",
    "kgcon.columns = kgcon.columns.str.replace('연결', '')\n",
    "kgcon.columns = kgcon.columns.str.replace('손실', '')\n",
    "kgcon.columns = kgcon.columns.str.replace('천원', '')\n",
    "\n",
    "kgsep.columns = kgsep.columns.str.replace('순손실', '')\n",
    "kgsep.columns = kgsep.columns.str.replace('(', '')\n",
    "kgsep.columns = kgsep.columns.str.replace(')', '')\n",
    "kgsep.columns = kgsep.columns.str.replace('영업수익', '')\n",
    "kgsep.columns = kgsep.columns.str.replace('*', '')\n",
    "kgsep.columns = kgsep.columns.str.replace('연결', '')\n",
    "kgsep.columns = kgsep.columns.str.replace('손실', '')\n",
    "kgsep.columns = kgsep.columns.str.replace('천원', '')\n",
    "\n",
    "#칼럼 이름 바꾸기\n",
    "kgcon.rename(columns = {'영업이익':'영업손익'},inplace=True)\n",
    "kgsep.rename(columns = {'영업이익':'영업손익'},inplace=True)\n",
    "\n",
    "# 컬럼명 재정렬\n",
    "kgcon = kgcon[['회사명', '거래소코드', '회계년도', '상장일', '상장폐지일', '자산', '자본', '영업손익', '당기순이익', '매출액']]\n",
    "kgsep = kgsep[['회사명', '거래소코드', '회계년도', '상장일', '상장폐지일', '자산', '자본', '영업손익', '당기순이익', '매출액']]"
   ]
  },
  {
   "cell_type": "markdown",
   "metadata": {},
   "source": [
    "#### 연결기업 결측치를 개별기업 데이터로 대체"
   ]
  },
  {
   "cell_type": "code",
   "execution_count": 282,
   "metadata": {},
   "outputs": [],
   "source": [
    "kgconsep = kgcon.copy()\n",
    "\n",
    "# 연결기업 데이터프레임의 결측치를 개별기업 데이터로 대체\n",
    "for i in kgconsep.columns:\n",
    "    kgconsep[i] = kgconsep[i].fillna(kgsep[i])\n",
    "\n",
    "\n",
    "# ts연결별도병합 데이터 프레임 저장\n",
    "kgconsep.to_csv('데이터/1차 전처리/gaap성장성연결별도병합.csv', encoding='CP949', index=False)"
   ]
  },
  {
   "cell_type": "code",
   "execution_count": 283,
   "metadata": {},
   "outputs": [
    {
     "name": "stdout",
     "output_type": "stream",
     "text": [
      "<연결>\n",
      "행렬 수 :  (20831, 10)\n",
      "회사 수 :  2388\n",
      "\n",
      "<별도>\n",
      "행렬 수 :  (20831, 10)\n",
      "회사 수 :  2388\n",
      "\n",
      "<병합>\n",
      "행렬 수 :  (20831, 10)\n",
      "회사 수 :  2388\n"
     ]
    }
   ],
   "source": [
    "# 연결, 별도, 병합 데이터 비교하고 확인\n",
    "print('<연결>')\n",
    "print('행렬 수 : ', kgcon.shape)\n",
    "print('회사 수 : ', kgcon['회사명'].nunique())\n",
    "\n",
    "print('\\n<별도>')\n",
    "print('행렬 수 : ', kgsep.shape)\n",
    "print('회사 수 : ', kgsep['회사명'].nunique())\n",
    "\n",
    "print('\\n<병합>')\n",
    "print('행렬 수 : ', kgconsep.shape)\n",
    "print('회사 수 : ', kgconsep['회사명'].nunique())"
   ]
  },
  {
   "cell_type": "markdown",
   "metadata": {},
   "source": [
    "#### 파생변수 만들기\n",
    "    컬럼 하나 새로 만들어서\n",
    "    포문 공식 : {(당기 - 전기) / 전기} * 100 값을 채워넣으려고 함\n",
    "    근데 만약 전기영업손익 < 0 면, 계산 => {(전기 - 당기) / 당기} * 100 로 채워넣을거임"
   ]
  },
  {
   "cell_type": "code",
   "execution_count": 284,
   "metadata": {},
   "outputs": [],
   "source": [
    "# 전기 데이터 만들기\n",
    "kgconsep['전기영업손익'] = kgconsep['영업손익'].shift().where(kgconsep.회사명.eq(kgconsep.회사명.shift()))\n",
    "kgconsep['전기순이익'] = kgconsep['당기순이익'].shift().where(kgconsep.회사명.eq(kgconsep.회사명.shift()))\n",
    "kgconsep['전기매출액'] = kgconsep['매출액'].shift().where(kgconsep.회사명.eq(kgconsep.회사명.shift()))\n",
    "kgconsep['전기자산'] = kgconsep['자산'].shift().where(kgconsep.회사명.eq(kgconsep.회사명.shift()))\n",
    "kgconsep['전기자본'] = kgconsep['자본'].shift().where(kgconsep.회사명.eq(kgconsep.회사명.shift()))\n",
    "\n",
    "\n",
    "kgconsep2 = kgconsep.copy()\n",
    "\n",
    "# 컬럼명 재정렬\n",
    "kgconsep2 = kgconsep2[['회사명', '거래소코드', '회계년도', '상장일', '상장폐지일', '자산', '전기자산', '자본', '전기자본', '영업손익', '전기영업손익', '당기순이익', '전기순이익', '매출액', '전기매출액']]\n",
    "\n",
    "\n",
    "# 성장성 재무비율 구하기\n",
    "kgconsep2['총자산증가율'] = ((kgconsep2['자산'] - kgconsep2['전기자산'])/kgconsep2['전기자산'])*100\n",
    "kgconsep2['자기자본증가율'] = ((kgconsep2['자본'] - kgconsep2['전기자본'])/abs(kgconsep2['전기자본']))*100\n",
    "for i, row in kgconsep2.iterrows () :\n",
    "    if kgconsep2.at[i,'전기영업손익'] > 0 or kgconsep2.at[i,'전기영업손익'] < 0 and kgconsep2.at[i,'영업손익'] < 0:\n",
    "        kgconsep2.at[i,'정상영업손익증가율'] = ((kgconsep2.at[i,'영업손익'] - kgconsep2.at[i,'전기영업손익'])/kgconsep2.at[i,'전기영업손익'])*100\n",
    "    elif kgconsep2.at[i,'전기영업손익'] < 0 and kgconsep2.at[i,'영업손익'] > 0:\n",
    "        kgconsep2.at[i,'정상영업손익증가율'] = ((kgconsep2.at[i,'전기영업손익'] - kgconsep2.at[i,'영업손익'])/kgconsep2.at[i,'영업손익'])*100\n",
    "\n",
    "for i, row in kgconsep2.iterrows () :\n",
    "    if kgconsep2.at[i,'전기순이익'] > 0 or kgconsep2.at[i,'전기순이익'] < 0 and kgconsep2.at[i,'당기순이익'] < 0:\n",
    "        kgconsep2.at[i,'순이익증가율'] = ((kgconsep2.at[i,'당기순이익'] - kgconsep2.at[i,'전기순이익'])/kgconsep2.at[i,'전기순이익'])*100\n",
    "    elif kgconsep2.at[i,'전기순이익'] < 0 and kgconsep2.at[i,'당기순이익'] > 0:\n",
    "        kgconsep2.at[i,'순이익증가율'] = ((kgconsep2.at[i,'전기순이익'] - kgconsep2.at[i,'당기순이익'])/kgconsep2.at[i,'당기순이익'])*100\n",
    "\n",
    "for i, row in kgconsep2.iterrows () :\n",
    "    if kgconsep2.at[i,'전기매출액'] > 0 or kgconsep2.at[i,'전기매출액'] < 0 and kgconsep2.at[i,'매출액'] < 0:\n",
    "        kgconsep2.at[i,'매출액증가율'] = ((kgconsep2.at[i,'매출액'] - kgconsep2.at[i,'전기매출액'])/kgconsep2.at[i,'전기매출액'])*100\n",
    "    elif kgconsep2.at[i,'전기매출액'] < 0 and kgconsep2.at[i,'매출액'] > 0:\n",
    "        kgconsep2.at[i,'매출액증가율'] = ((kgconsep2.at[i,'전기매출액'] - kgconsep2.at[i,'매출액'])/kgconsep2.at[i,'매출액'])*100\n",
    "\n",
    "\n",
    "# 데이터 프레임 저장\n",
    "kgconsep2.to_csv('데이터/1차 전처리/gaap성장성파생변수.csv', encoding='CP949', index=False)"
   ]
  },
  {
   "cell_type": "markdown",
   "metadata": {},
   "source": [
    "--------"
   ]
  },
  {
   "cell_type": "markdown",
   "metadata": {},
   "source": [
    "## K-GAAP과 K-IFRS 합치기"
   ]
  },
  {
   "cell_type": "code",
   "execution_count": 285,
   "metadata": {},
   "outputs": [],
   "source": [
    "# consep2 : K-IFRS 최종 데이터 /  kgconsep2 : K-GAAP 최종 데이터\n",
    "## 파생변수들만 냅두고 위아래로 합치기\n",
    "## "
   ]
  },
  {
   "cell_type": "markdown",
   "metadata": {},
   "source": [
    "---"
   ]
  },
  {
   "cell_type": "markdown",
   "metadata": {},
   "source": [
    "### 자기자본구성비율, 재고자산대순운전자본비율, 자기자본회전률 파생변수 만들기"
   ]
  },
  {
   "cell_type": "markdown",
   "metadata": {},
   "source": [
    "#### TS노션데이터 연결, 개별 합치기"
   ]
  },
  {
   "cell_type": "code",
   "execution_count": 286,
   "metadata": {},
   "outputs": [
    {
     "name": "stdout",
     "output_type": "stream",
     "text": [
      "<연결>\n",
      "행렬 수 :  (20947, 27)\n",
      "회사 수 :  2456\n",
      "\n",
      "<개별>\n",
      "행렬 수 :  (20947, 27)\n",
      "회사 수 :  2456\n",
      "\n",
      "<그대로>\n",
      "행렬 수 :  (20947, 12)\n",
      "회사 수 :  2456\n"
     ]
    }
   ],
   "source": [
    "# 데이터 불러오기\n",
    "conno = pd.read_csv('데이터/data/연결노션정리.csv', encoding='CP949')\n",
    "sepno = pd.read_csv('데이터/data/별도노션정리.csv', encoding='CP949')\n",
    "defno = pd.read_csv('데이터/data/노션정리그대로.csv', encoding='CP949')\n",
    "\n",
    "# 연결, 병합 데이터 비교하고 확인\n",
    "print('<연결>')\n",
    "print('행렬 수 : ', conno.shape)\n",
    "print('회사 수 : ', conno['회사명'].nunique())\n",
    "\n",
    "print('\\n<개별>')\n",
    "print('행렬 수 : ', sepno.shape)\n",
    "print('회사 수 : ', sepno['회사명'].nunique())\n",
    "\n",
    "print('\\n<그대로>')\n",
    "print('행렬 수 : ', defno.shape)\n",
    "print('회사 수 : ', defno['회사명'].nunique())"
   ]
  },
  {
   "cell_type": "code",
   "execution_count": 287,
   "metadata": {},
   "outputs": [],
   "source": [
    "# 데이터 프레임 결측치 합 확인\n",
    "# conno.isna().sum()\n",
    "# sepno.isna().sum()\n",
    "# defno.isna().sum()"
   ]
  },
  {
   "cell_type": "code",
   "execution_count": 288,
   "metadata": {},
   "outputs": [
    {
     "name": "stderr",
     "output_type": "stream",
     "text": [
      "<ipython-input-288-929d5e5f5a0b>:8: FutureWarning: The default value of regex will change from True to False in a future version. In addition, single character regular expressions will*not* be treated as literal strings when regex=True.\n",
      "  conno.columns = conno.columns.str.replace('(', '')\n",
      "<ipython-input-288-929d5e5f5a0b>:9: FutureWarning: The default value of regex will change from True to False in a future version. In addition, single character regular expressions will*not* be treated as literal strings when regex=True.\n",
      "  conno.columns = conno.columns.str.replace(')', '')\n",
      "<ipython-input-288-929d5e5f5a0b>:11: FutureWarning: The default value of regex will change from True to False in a future version. In addition, single character regular expressions will*not* be treated as literal strings when regex=True.\n",
      "  conno.columns = conno.columns.str.replace('*', '')\n",
      "<ipython-input-288-929d5e5f5a0b>:19: FutureWarning: The default value of regex will change from True to False in a future version. In addition, single character regular expressions will*not* be treated as literal strings when regex=True.\n",
      "  sepno.columns = sepno.columns.str.replace('(', '')\n",
      "<ipython-input-288-929d5e5f5a0b>:20: FutureWarning: The default value of regex will change from True to False in a future version. In addition, single character regular expressions will*not* be treated as literal strings when regex=True.\n",
      "  sepno.columns = sepno.columns.str.replace(')', '')\n",
      "<ipython-input-288-929d5e5f5a0b>:22: FutureWarning: The default value of regex will change from True to False in a future version. In addition, single character regular expressions will*not* be treated as literal strings when regex=True.\n",
      "  sepno.columns = sepno.columns.str.replace('*', '')\n"
     ]
    }
   ],
   "source": [
    "# 컬럼명 확인\n",
    "# conno.columns\n",
    "# sepno.columns\n",
    "\n",
    "\n",
    "# 컬럼명 불필요 문자 제거\n",
    "conno.columns = conno.columns.str.replace('수익', '')\n",
    "conno.columns = conno.columns.str.replace('(', '')\n",
    "conno.columns = conno.columns.str.replace(')', '')\n",
    "conno.columns = conno.columns.str.replace('IFRS연결', '')\n",
    "conno.columns = conno.columns.str.replace('*', '')\n",
    "conno.columns = conno.columns.str.replace('보고서기재', '')\n",
    "conno.columns = conno.columns.str.replace('손실', '')\n",
    "conno.columns = conno.columns.str.replace('정상', '')\n",
    "conno.columns = conno.columns.str.replace(' ', '')\n",
    "# conno.columns\n",
    "\n",
    "sepno.columns = sepno.columns.str.replace('수익', '')\n",
    "sepno.columns = sepno.columns.str.replace('(', '')\n",
    "sepno.columns = sepno.columns.str.replace(')', '')\n",
    "sepno.columns = sepno.columns.str.replace('IFRS', '')\n",
    "sepno.columns = sepno.columns.str.replace('*', '')\n",
    "sepno.columns = sepno.columns.str.replace('보고서기재', '')\n",
    "sepno.columns = sepno.columns.str.replace('손실', '')\n",
    "sepno.columns = sepno.columns.str.replace('정상', '')\n",
    "sepno.columns = sepno.columns.str.replace(' ', '')\n",
    "# sepno.columns\n",
    "\n",
    "\n",
    "# 칼럼 재배치\n",
    "conno = conno[['회사명', '거래소코드', '회계년도', '상장일', '상장폐지일', '영업손익', '매출액', '당기순이익', '자본', '이자비용', '이자',\n",
    "       '배당금', '영업활동으로인한현금흐름간접법', '발행한주식총수', '자산', '현금및현금성자산', '유동부채', '재고자산',\n",
    "       '유동자산', '부채', '합계_기말인원', '법인세비용차감전계속사업손익', '인건비', '금융비용', '임차료',\n",
    "       '세금과공과', '감가상각비']]\n",
    "\n",
    "sepno = sepno[['회사명', '거래소코드', '회계년도', '상장일', '상장폐지일', '영업손익', '매출액', '당기순이익', '자본', '이자비용', '이자',\n",
    "       '배당금', '영업활동으로인한현금흐름간접법', '발행한주식총수', '자산', '현금및현금성자산', '유동부채', '재고자산',\n",
    "       '유동자산', '부채', '합계_기말인원', '법인세비용차감전계속사업손익', '인건비', '금융비용', '임차료',\n",
    "       '세금과공과', '감가상각비']]"
   ]
  },
  {
   "cell_type": "markdown",
   "metadata": {},
   "source": [
    "#### 연결기업 결측치를 개별기업 데이터로 대체"
   ]
  },
  {
   "cell_type": "code",
   "execution_count": 289,
   "metadata": {},
   "outputs": [],
   "source": [
    "consepno = conno.copy()\n",
    "\n",
    "# 노션_연결 데이터프레임의 컬럼명을 리스트로 저장\n",
    "consepno_list = consepno.columns.tolist()\n",
    "\n",
    "\n",
    "# 노션_연결기업 데이터프레임의 결측치를 개별기업 데이터로 대체\n",
    "for i in consepno_list:\n",
    "    consepno[i] = consepno[i].fillna(sepno[i])\n",
    "\n",
    "\n",
    "# ts연결별도병합 데이터 프레임 저장\n",
    "consepno.to_csv('데이터/1차 전처리/노션연결별도병합.csv', encoding='CP949', index=False)"
   ]
  },
  {
   "cell_type": "markdown",
   "metadata": {},
   "source": [
    "#### 노션그대로 데이터 연결병합에 합치기"
   ]
  },
  {
   "cell_type": "code",
   "execution_count": 290,
   "metadata": {},
   "outputs": [],
   "source": [
    "defno2 = defno.copy()\n",
    "concat = pd.merge(consepno, defno2, on = ['회사명', '거래소코드', '회계년도', '상장일', '상장폐지일'], how='left')\n",
    "concat\n",
    "\n",
    "# 데이터 프레임 저장\n",
    "concat.to_csv('데이터/1차 전처리/concat.csv', encoding='CP949', index=False)"
   ]
  },
  {
   "cell_type": "code",
   "execution_count": 291,
   "metadata": {},
   "outputs": [
    {
     "name": "stdout",
     "output_type": "stream",
     "text": [
      "연결\n",
      "conno :  (20947, 27)\n",
      "conno :  2456\n",
      "\n",
      "별도\n",
      "sepno :  (20947, 27)\n",
      "sepno :  2456\n",
      "\n",
      "그대로\n",
      "defno :  (20947, 12)\n",
      "defno :  2456\n",
      "\n",
      "병합\n",
      "consepno :  (20947, 27)\n",
      "consepno :  2456\n",
      "\n",
      "콘켓\n",
      "concat :  (20947, 34)\n",
      "concat :  2456\n"
     ]
    }
   ],
   "source": [
    "# 연결, 별도, 병합, 콘켓 데이터 비교하고 확인\n",
    "print('연결')\n",
    "print('conno : ', conno.shape)\n",
    "print('conno : ', conno['회사명'].nunique())\n",
    "\n",
    "print('\\n별도')\n",
    "print('sepno : ', sepno.shape)\n",
    "print('sepno : ', sepno['회사명'].nunique())\n",
    "\n",
    "print('\\n그대로')\n",
    "print('defno : ', defno.shape)\n",
    "print('defno : ', defno['회사명'].nunique())\n",
    "\n",
    "print('\\n병합')\n",
    "print('consepno : ', consepno.shape)\n",
    "print('consepno : ', consepno['회사명'].nunique())\n",
    "\n",
    "print('\\n콘켓')\n",
    "print('concat : ', concat.shape)\n",
    "print('concat : ', concat['회사명'].nunique())"
   ]
  },
  {
   "cell_type": "markdown",
   "metadata": {},
   "source": [
    "#### 파생변수 만들기"
   ]
  },
  {
   "cell_type": "code",
   "execution_count": 292,
   "metadata": {},
   "outputs": [],
   "source": [
    "concat2 = concat.copy()\n",
    "\n",
    "concat2['자기자본구성비율'] = (concat2['자본']/concat2['자산'])*100\n",
    "concat2['재고자산대순운전자본비율'] = (concat2['재고자산']/(concat2['유동자산']-concat2['유동부채']))*100\n",
    "concat2['전기자본'] = concat2['자본'].shift().where(concat2.회사명.eq(concat2.회사명.shift()))\n",
    "\n",
    "last_cap = concat2.groupby('회사명', as_index=False)['전기자본'].nth(0).index   # 각 기업의 '전기자본'컬럼의 첫번째 행에 매출액/자본 공식 대입\n",
    "concat2.iloc[last_cap, :]\n",
    "concat2['자기자본회전률'] = concat2['매출액']/((concat2['전기자본'] + concat2['자본'])/2)\n",
    "concat2.loc[last_cap, '자기자본회전률'] = concat2['매출액']/(concat2['자본']) \n",
    "\n",
    "\n",
    "# 데이터 프레임 저장\n",
    "concat2.to_csv('데이터/1차 전처리/노션정리파생변수.csv', encoding='CP949', index=False)"
   ]
  },
  {
   "cell_type": "code",
   "execution_count": null,
   "metadata": {},
   "outputs": [],
   "source": []
  },
  {
   "cell_type": "code",
   "execution_count": null,
   "metadata": {},
   "outputs": [],
   "source": []
  },
  {
   "cell_type": "code",
   "execution_count": null,
   "metadata": {},
   "outputs": [],
   "source": []
  },
  {
   "cell_type": "code",
   "execution_count": null,
   "metadata": {},
   "outputs": [],
   "source": []
  },
  {
   "cell_type": "code",
   "execution_count": null,
   "metadata": {},
   "outputs": [],
   "source": []
  }
 ],
 "metadata": {
  "kernelspec": {
   "display_name": "Python 3.8.8 ('base')",
   "language": "python",
   "name": "python3"
  },
  "language_info": {
   "codemirror_mode": {
    "name": "ipython",
    "version": 3
   },
   "file_extension": ".py",
   "mimetype": "text/x-python",
   "name": "python",
   "nbconvert_exporter": "python",
   "pygments_lexer": "ipython3",
   "version": "3.8.8"
  },
  "orig_nbformat": 4,
  "vscode": {
   "interpreter": {
    "hash": "bb818233b7b178884264e8dd05094efd4a6668b508f3d13c74764f741e7879a4"
   }
  }
 },
 "nbformat": 4,
 "nbformat_minor": 2
}
